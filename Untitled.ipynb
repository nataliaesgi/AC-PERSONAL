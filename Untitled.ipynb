{
 "cells": [
  {
   "cell_type": "code",
   "execution_count": 56,
   "id": "bf78108d",
   "metadata": {},
   "outputs": [
    {
     "data": {
      "text/plain": [
       "0.2222222222222222"
      ]
     },
     "execution_count": 56,
     "metadata": {},
     "output_type": "execute_result"
    }
   ],
   "source": [
    "function llamartrueSiEsInt64(x::Int64)\n",
    "    \n",
    "    x = true\n",
    "      \n",
    "end\n",
    "function llamartrueSiEsInt64(x::Real)\n",
    "    \n",
    "    x = false\n",
    "      \n",
    "end\n",
    "function llamartrueSiEsInt64(x::Float64)\n",
    "    \n",
    "    x = false      \n",
    "end\n",
    "llamartrueSiEsInt64(x)\n",
    "x"
   ]
  },
  {
   "cell_type": "code",
   "execution_count": 30,
   "id": "3580e40c",
   "metadata": {},
   "outputs": [
    {
     "data": {
      "text/plain": [
       "3"
      ]
     },
     "execution_count": 30,
     "metadata": {},
     "output_type": "execute_result"
    }
   ],
   "source": [
    "x=3"
   ]
  },
  {
   "cell_type": "code",
   "execution_count": 52,
   "id": "77fd5b3a",
   "metadata": {},
   "outputs": [
    {
     "data": {
      "text/plain": [
       "false"
      ]
     },
     "execution_count": 52,
     "metadata": {},
     "output_type": "execute_result"
    }
   ],
   "source": [
    "llamartrueSiEsInt64(x)"
   ]
  },
  {
   "cell_type": "code",
   "execution_count": 66,
   "id": "f8ef08b5",
   "metadata": {},
   "outputs": [
    {
     "data": {
      "text/plain": [
       "cuadradomenosuno (generic function with 1 method)"
      ]
     },
     "execution_count": 66,
     "metadata": {},
     "output_type": "execute_result"
    }
   ],
   "source": [
    "function cuadradomenosuno(x::Int64)\n",
    "V=2^x-1\n",
    "end\n"
   ]
  },
  {
   "cell_type": "code",
   "execution_count": 67,
   "id": "6cfa1f46",
   "metadata": {},
   "outputs": [
    {
     "data": {
      "text/plain": [
       "3"
      ]
     },
     "execution_count": 67,
     "metadata": {},
     "output_type": "execute_result"
    }
   ],
   "source": [
    "cuadradomenosuno(x::Int64)"
   ]
  },
  {
   "cell_type": "code",
   "execution_count": 123,
   "id": "bf75b04b",
   "metadata": {},
   "outputs": [
    {
     "name": "stdout",
     "output_type": "stream",
     "text": [
      "El número de bloques en tu torre de Hanoi es:1\n",
      "Vas a realizar el siguiente número de movimientos:1\n",
      "mueve el bloque 1 desde la torre1 hasta la torre3\n"
     ]
    }
   ],
   "source": [
    "x=1\n",
    "println(\"El número de bloques en tu torre de Hanoi es:\", x)\n",
    "llamartrueSiEsInt64(x)\n",
    "    if llamartrueSiEsInt64(x)==true\n",
    "        println(\"Vas a realizar el siguiente número de movimientos:\", cuadradomenosuno(x::Int64))\n",
    "        if x==1\n",
    "            hanoimov(n, ori, desde, aux)\n",
    "            println(\"mueve el bloque \", x, \" desde la \", ori, \" hasta la \", desde)\n",
    "        else\n",
    "            hanoimov(n, ori, desde, aux)\n",
    "            hanoimov(cuadradomenosuno, ori, desde, aux)\n",
    "        end\n",
    "    elseif llamartrueSiEsInt64(x)==false\n",
    "        println(\"El número no es correcto, por favor ingresa nuevamente el numero de bloques\")\n",
    "    end"
   ]
  },
  {
   "cell_type": "code",
   "execution_count": 65,
   "id": "547ed3e2",
   "metadata": {},
   "outputs": [
    {
     "data": {
      "text/plain": [
       "1×3 Matrix{Int64}:\n",
       " 1  2  3"
      ]
     },
     "execution_count": 65,
     "metadata": {},
     "output_type": "execute_result"
    }
   ],
   "source": [
    "M=[1 2 3]"
   ]
  },
  {
   "cell_type": "code",
   "execution_count": null,
   "id": "6a46ea12",
   "metadata": {},
   "outputs": [],
   "source": [
    "for i in cuadradomenosuno:"
   ]
  },
  {
   "cell_type": "code",
   "execution_count": 114,
   "id": "1af99fbe",
   "metadata": {},
   "outputs": [
    {
     "data": {
      "text/plain": [
       "\"torre1\""
      ]
     },
     "execution_count": 114,
     "metadata": {},
     "output_type": "execute_result"
    }
   ],
   "source": [
    "ori=\"torre1\"\n"
   ]
  },
  {
   "cell_type": "code",
   "execution_count": 119,
   "id": "34f23b5b",
   "metadata": {},
   "outputs": [
    {
     "data": {
      "text/plain": [
       "\"torre3\""
      ]
     },
     "execution_count": 119,
     "metadata": {},
     "output_type": "execute_result"
    }
   ],
   "source": [
    "desde=\"torre3\""
   ]
  },
  {
   "cell_type": "code",
   "execution_count": 115,
   "id": "7cc30269",
   "metadata": {},
   "outputs": [
    {
     "data": {
      "text/plain": [
       "\"torre2\""
      ]
     },
     "execution_count": 115,
     "metadata": {},
     "output_type": "execute_result"
    }
   ],
   "source": [
    "aux=\"torre2\""
   ]
  },
  {
   "cell_type": "code",
   "execution_count": 78,
   "id": "8f680b02",
   "metadata": {},
   "outputs": [
    {
     "data": {
      "text/plain": [
       "hanoimov (generic function with 2 methods)"
      ]
     },
     "execution_count": 78,
     "metadata": {},
     "output_type": "execute_result"
    }
   ],
   "source": [
    "function hanoimov(n, ori, desde, aux)\n",
    "n=n\n",
    "ori=torre1\n",
    "desde=torre3\n",
    "aux=torre2\n",
    "\n",
    "end"
   ]
  },
  {
   "cell_type": "code",
   "execution_count": 79,
   "id": "21feb3be",
   "metadata": {},
   "outputs": [
    {
     "ename": "LoadError",
     "evalue": "UndefVarError: ori not defined",
     "output_type": "error",
     "traceback": [
      "UndefVarError: ori not defined",
      "",
      "Stacktrace:",
      " [1] top-level scope",
      "   @ In[79]:6"
     ]
    }
   ],
   "source": [
    "torre1=1\n",
    "torre2=2\n",
    "torre3=3\n",
    "n=4\n",
    "hanoimov(n, torre1, torre3, torre2)\n",
    "hanoimov(n, ori, desde, aux)\n",
    "if n==1\n",
    "println(\"mueve\" n, \"desde\" ori, \"hasta\" desde, \"con\" aux)\n",
    "else\n",
    "hanoi(n-1, aux, des, ori)\n",
    "end"
   ]
  },
  {
   "cell_type": "code",
   "execution_count": 88,
   "id": "a7afc68a",
   "metadata": {},
   "outputs": [
    {
     "data": {
      "text/plain": [
       "Movimiento (generic function with 2 methods)"
      ]
     },
     "execution_count": 88,
     "metadata": {},
     "output_type": "execute_result"
    }
   ],
   "source": [
    "function Movimiento(discos::Int64, origen::String, destino::String, aux::String)\n",
    "end"
   ]
  },
  {
   "cell_type": "code",
   "execution_count": 93,
   "id": "b01602b2",
   "metadata": {},
   "outputs": [
    {
     "ename": "LoadError",
     "evalue": "UndefVarError: P1 not defined",
     "output_type": "error",
     "traceback": [
      "UndefVarError: P1 not defined",
      "",
      "Stacktrace:",
      " [1] top-level scope",
      "   @ In[93]:2"
     ]
    }
   ],
   "source": [
    "discos=1\n",
    "origen=P1\n",
    "destino=P2\n",
    "aux=P3\n",
    "if discos>0\n",
    "Movimiento(discos-1, origen, aux, destino)\n",
    "Movimiento(discos-1, aux, destino, origen)\n",
    "end\n",
    "function main()\n",
    "Movimiento(3, \"P1\", \"P2\", \"P3\")\n"
   ]
  },
  {
   "cell_type": "code",
   "execution_count": null,
   "id": "37d5c327",
   "metadata": {},
   "outputs": [],
   "source": []
  }
 ],
 "metadata": {
  "kernelspec": {
   "display_name": "Julia 1.8.5",
   "language": "julia",
   "name": "julia-1.8"
  },
  "language_info": {
   "file_extension": ".jl",
   "mimetype": "application/julia",
   "name": "julia",
   "version": "1.8.5"
  }
 },
 "nbformat": 4,
 "nbformat_minor": 5
}
