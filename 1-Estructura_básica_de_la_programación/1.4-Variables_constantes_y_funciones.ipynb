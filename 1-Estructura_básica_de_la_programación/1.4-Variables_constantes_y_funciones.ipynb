{
 "cells": [
  {
   "cell_type": "markdown",
   "id": "0f785daf",
   "metadata": {},
   "source": [
    "# Variables, constantes y funciones\n",
    "\n",
    "En este _notebook_ aprenderemos cómo podemos preservar datos y series de instrucciones etiquetándolos con un nombre específico para reutilizarlos con facilidad mediante la definición de variables (o constantes) y funciones, respectivamete."
   ]
  },
  {
   "cell_type": "markdown",
   "id": "03375b69",
   "metadata": {},
   "source": [
    "## Variables\n",
    "\n",
    "A menudo en nuestros programas querremos \"invocar\" a un mismo valor (que, en particular, puede ser un arreglo de valores) varias veces, e inclusive modificarlo y guardar el nuevo valor, descartando el anterior. Para esto existen las **variables**, que son _nombres asociados a algún valor (que puede cambiar)_."
   ]
  },
  {
   "cell_type": "markdown",
   "id": "255084ee",
   "metadata": {},
   "source": [
    "### Operador de asignación\n",
    "\n",
    "En Julia, creamos una variable y le asignamos un valor con el símbolo **`=`**, que se conoce como el **operador de asignación**."
   ]
  },
  {
   "cell_type": "code",
   "execution_count": 1,
   "id": "bd2eee25",
   "metadata": {},
   "outputs": [
    {
     "ename": "LoadError",
     "evalue": "UndefVarError: x not defined",
     "output_type": "error",
     "traceback": [
      "UndefVarError: x not defined",
      ""
     ]
    }
   ],
   "source": [
    "x     #=Al ejecutar esto con un kernel recién reiniciado, obtenemos un\n",
    "        mensaje de error que nos dice que la variable 'x' no está definida=#"
   ]
  },
  {
   "cell_type": "code",
   "execution_count": 2,
   "id": "0cdebd97",
   "metadata": {},
   "outputs": [
    {
     "data": {
      "text/plain": [
       "9"
      ]
     },
     "execution_count": 2,
     "metadata": {},
     "output_type": "execute_result"
    }
   ],
   "source": [
    "x = 9 #Asignamos el valor 9 a la variable x"
   ]
  },
  {
   "cell_type": "code",
   "execution_count": 3,
   "id": "6b08924e",
   "metadata": {},
   "outputs": [
    {
     "data": {
      "text/plain": [
       "9"
      ]
     },
     "execution_count": 3,
     "metadata": {},
     "output_type": "execute_result"
    }
   ],
   "source": [
    "x     #Verificamos la asignación"
   ]
  },
  {
   "cell_type": "markdown",
   "id": "17bd7fc6",
   "metadata": {},
   "source": [
    "La sintáxis general es\n",
    "\n",
    "$\\text{nombre} \\ \\color{magenta}{\\textbf{=}} \\ \\text{valor}$\n",
    "\n",
    "La bondad de las variables es que, como en matemáticas, podemos utilizarlas para hacer operaciones:"
   ]
  },
  {
   "cell_type": "code",
   "execution_count": 4,
   "id": "1d5f63da",
   "metadata": {
    "scrolled": true
   },
   "outputs": [
    {
     "data": {
      "text/plain": [
       "3×3 Matrix{Int64}:\n",
       " 10  11  12\n",
       " 13  14  15\n",
       " 16  17  18"
      ]
     },
     "execution_count": 4,
     "metadata": {},
     "output_type": "execute_result"
    }
   ],
   "source": [
    "M = [1 2 3 ; 4 5 6 ; 7 8 9]\n",
    "M .+ x #Sumamos el valor de 'x' a cada entrada de la matriz 'M'"
   ]
  },
  {
   "cell_type": "markdown",
   "id": "5031a0bd",
   "metadata": {},
   "source": [
    "Observemos que la expresión `M .+ x` **no cambió** el valor de `M`, pues no se volvió a utilizar el operador **`=`**."
   ]
  },
  {
   "cell_type": "code",
   "execution_count": 5,
   "id": "02ab8eca",
   "metadata": {},
   "outputs": [
    {
     "data": {
      "text/plain": [
       "3×3 Matrix{Int64}:\n",
       " 1  2  3\n",
       " 4  5  6\n",
       " 7  8  9"
      ]
     },
     "execution_count": 5,
     "metadata": {},
     "output_type": "execute_result"
    }
   ],
   "source": [
    "M #Verificamos que el valor de M no ha cambiado"
   ]
  },
  {
   "cell_type": "markdown",
   "id": "a89eb003",
   "metadata": {},
   "source": [
    "Para modificar el valor asignado a una variable, debemos hacer una nueva asignación:"
   ]
  },
  {
   "cell_type": "code",
   "execution_count": 6,
   "id": "8a1c3b4c",
   "metadata": {},
   "outputs": [
    {
     "data": {
      "text/plain": [
       "10"
      ]
     },
     "execution_count": 6,
     "metadata": {},
     "output_type": "execute_result"
    }
   ],
   "source": [
    "x = x + 1 #Ejecuta esto varias veces y observa cómo va cambiando el valor asignado a x"
   ]
  },
  {
   "cell_type": "markdown",
   "id": "b79d43ef",
   "metadata": {},
   "source": [
    "En general, podemos asignarle datos de cualquier tipo a las variables:"
   ]
  },
  {
   "cell_type": "code",
   "execution_count": 7,
   "id": "c6ff6c77",
   "metadata": {},
   "outputs": [
    {
     "data": {
      "text/plain": [
       "\"Valor tipo 'String'\""
      ]
     },
     "execution_count": 7,
     "metadata": {},
     "output_type": "execute_result"
    }
   ],
   "source": [
    "texto = \"Valor tipo 'String'\""
   ]
  },
  {
   "cell_type": "markdown",
   "id": "ca6f0c2d",
   "metadata": {},
   "source": [
    "además de usar variables -que tengan valores asignados- como argumentos de funciones:"
   ]
  },
  {
   "cell_type": "code",
   "execution_count": 8,
   "id": "099c3e56",
   "metadata": {},
   "outputs": [
    {
     "data": {
      "text/plain": [
       "\"valor tipo 'string'\""
      ]
     },
     "execution_count": 8,
     "metadata": {},
     "output_type": "execute_result"
    }
   ],
   "source": [
    "lowercase(texto) #Cambiamos todas las letras del String por minúsculas"
   ]
  },
  {
   "cell_type": "code",
   "execution_count": 9,
   "id": "e4df9dd0",
   "metadata": {},
   "outputs": [
    {
     "data": {
      "text/plain": [
       "\"VALOR TIPO 'STRING'\""
      ]
     },
     "execution_count": 9,
     "metadata": {},
     "output_type": "execute_result"
    }
   ],
   "source": [
    "uppercase(texto) #Cambiamos todas las letras del String por mayúsculas"
   ]
  },
  {
   "cell_type": "markdown",
   "id": "7dadf223",
   "metadata": {},
   "source": [
    "### Operadores de actualización\n",
    "\n",
    "Dado lo común que es en aplicaciones numéricas tener que redefinir el valor de una variable en función de su valor anterior, existe una sintáxis sencilla para hacer esto en Julia, utilizando un operador aritmético (como **`+`**, **`-`**, **`/`**, **`*`**, **`^`**, etcétera) seguido _inmediatamente_ del operador de asignación **`=`** (i.e. sin dejar espacio)."
   ]
  },
  {
   "cell_type": "code",
   "execution_count": 10,
   "id": "462d373c",
   "metadata": {},
   "outputs": [
    {
     "data": {
      "text/plain": [
       "11"
      ]
     },
     "execution_count": 10,
     "metadata": {},
     "output_type": "execute_result"
    }
   ],
   "source": [
    "x += 1 #Ejecútalo varias veces y nota cómo cambia el valor asignado a x"
   ]
  },
  {
   "cell_type": "markdown",
   "id": "28f5bc21",
   "metadata": {},
   "source": [
    "La expresión anterior es equivalente al código `x = x + 1` que habíamos ejecutado anteriormente. También podemos poner un punto **`.`** antes de un operador de actualización para actualizar todos los valores de un arreglo entrada a entrada:"
   ]
  },
  {
   "cell_type": "code",
   "execution_count": 11,
   "id": "0a7f2a79",
   "metadata": {},
   "outputs": [
    {
     "data": {
      "text/plain": [
       "3×3 Matrix{Int64}:\n",
       " 1  2  3\n",
       " 4  5  6\n",
       " 7  8  9"
      ]
     },
     "execution_count": 11,
     "metadata": {},
     "output_type": "execute_result"
    }
   ],
   "source": [
    "M #Mostramos el valor actual asignado a la variable 'M'"
   ]
  },
  {
   "cell_type": "code",
   "execution_count": 12,
   "id": "ecd9d0ce",
   "metadata": {},
   "outputs": [
    {
     "data": {
      "text/plain": [
       "3×3 Matrix{Int64}:\n",
       " 12  13  14\n",
       " 15  16  17\n",
       " 18  19  20"
      ]
     },
     "execution_count": 12,
     "metadata": {},
     "output_type": "execute_result"
    }
   ],
   "source": [
    "M .+= x #Actualizamos los valores de la matriz 'M' entrada a entrada"
   ]
  },
  {
   "cell_type": "code",
   "execution_count": 13,
   "id": "0c9a354a",
   "metadata": {},
   "outputs": [
    {
     "data": {
      "text/plain": [
       "3×3 Matrix{Int64}:\n",
       " 12  13  14\n",
       " 15  16  17\n",
       " 18  19  20"
      ]
     },
     "execution_count": 13,
     "metadata": {},
     "output_type": "execute_result"
    }
   ],
   "source": [
    "M #Verificamos la actualización"
   ]
  },
  {
   "cell_type": "markdown",
   "id": "9c57cf55",
   "metadata": {},
   "source": [
    "## Constantes\n",
    "\n",
    "Para declarar a una **constante**, es decir, un **valor que no queremos que varíe a lo largo de todo nuestro código**, se hace una asignación colocando la palabra **`const`** antes del nombre de la constante:"
   ]
  },
  {
   "cell_type": "code",
   "execution_count": 14,
   "id": "d5073588",
   "metadata": {
    "scrolled": true
   },
   "outputs": [
    {
     "data": {
      "text/plain": [
       "9"
      ]
     },
     "execution_count": 14,
     "metadata": {},
     "output_type": "execute_result"
    }
   ],
   "source": [
    "const nueve = 9"
   ]
  },
  {
   "cell_type": "markdown",
   "id": "8b3a1b03",
   "metadata": {},
   "source": [
    "Esto permite realizar operaciones con el valor asignado como si fuera una variable."
   ]
  },
  {
   "cell_type": "code",
   "execution_count": 15,
   "id": "4789d550",
   "metadata": {},
   "outputs": [
    {
     "data": {
      "text/plain": [
       "3×3 Matrix{Int64}:\n",
       " 21  22  23\n",
       " 24  25  26\n",
       " 27  28  29"
      ]
     },
     "execution_count": 15,
     "metadata": {},
     "output_type": "execute_result"
    }
   ],
   "source": [
    "M .+ nueve"
   ]
  },
  {
   "cell_type": "markdown",
   "id": "80f14e83",
   "metadata": {},
   "source": [
    "Sin embargo, cada vez que se le asigne al nombre de una constante un valor _distinto_ al último que se le había asignado, el compilador mostrará una _advertencia_"
   ]
  },
  {
   "cell_type": "code",
   "execution_count": 16,
   "id": "9b3b4172",
   "metadata": {
    "scrolled": true
   },
   "outputs": [
    {
     "name": "stderr",
     "output_type": "stream",
     "text": [
      "WARNING: redefinition of constant nueve. This may fail, cause incorrect answers, or produce other errors.\n"
     ]
    },
    {
     "data": {
      "text/plain": [
       "10"
      ]
     },
     "execution_count": 16,
     "metadata": {},
     "output_type": "execute_result"
    }
   ],
   "source": [
    "nueve = 10 #Advertencia por nueva asignación a un nombre declarado como constante\n",
    "\n",
    "nueve"
   ]
  },
  {
   "cell_type": "markdown",
   "id": "beee124e",
   "metadata": {},
   "source": [
    "avisándonos que en el código aparece una reasignación de un nombre que queríamos asociar a un valor constante. Esta es la principal ventaja de poder declarar constantes, mas no la única, pues la declaración de constantes también contribuye a optimizar nuestro código, ya que Julia puede procesar valores más rápidamente si sabe que estos nunca van a cambiar."
   ]
  },
  {
   "cell_type": "markdown",
   "id": "f576fb40",
   "metadata": {},
   "source": [
    "**Nota** A diferencia de un mensaje de error, que detiene la ejecución del código que lo generó, una advertencia _sí_ permite la ejecución del código que la generó; esto se puede observar en la celda de código anterior."
   ]
  },
  {
   "cell_type": "markdown",
   "id": "0bb2578a",
   "metadata": {},
   "source": [
    "**Nota** Para declarar una constante, no se puede utilizar el nombre de una variable que ya haya sido asignada previamente."
   ]
  },
  {
   "cell_type": "code",
   "execution_count": 17,
   "id": "b56fc7b2",
   "metadata": {},
   "outputs": [
    {
     "ename": "LoadError",
     "evalue": "cannot declare x constant; it already has a value",
     "output_type": "error",
     "traceback": [
      "cannot declare x constant; it already has a value",
      "",
      "Stacktrace:",
      " [1] top-level scope",
      "   @ In[17]:1"
     ]
    }
   ],
   "source": [
    "const x = 2 #Error: ya habíamos usado el nombre 'x' para asignarle el valor 9 a la variable 'x'"
   ]
  },
  {
   "cell_type": "markdown",
   "id": "ce005cd8",
   "metadata": {},
   "source": [
    "## Funciones\n",
    "\n",
    "Al programar, no sólo es común tener que llamar a un mismo valor una y otra vez, por lo que conviene asignárselo a una variable o a una constante, sino que a menudo también necesitamos ejecutar una misma serie de instrucciones varias veces, la cual puede ser reemplazada con una función.\n",
    "\n",
    "Una **función** es una _serie de instrucciones reutilizable_ diseñada para realizar un trabajo específico. Una característica crucial de las funciones es que _pueden tomar argumentos_ y procesarlos como parte de la serie de instrucciones que ejecutan. Algunos ejemplos de funciones incluyen:"
   ]
  },
  {
   "cell_type": "code",
   "execution_count": 18,
   "id": "e9401c6f",
   "metadata": {},
   "outputs": [
    {
     "data": {
      "text/plain": [
       "2.220446049250313e-16"
      ]
     },
     "execution_count": 18,
     "metadata": {},
     "output_type": "execute_result"
    }
   ],
   "source": [
    "eps() #=Devuelve la épsilon de máquina para datos de tipo Float64 (sin colocar argumentos) \n",
    "        o del tipo de dato numérico de punto flotante que se le dé como argumento.=#"
   ]
  },
  {
   "cell_type": "code",
   "execution_count": 19,
   "id": "902bd375",
   "metadata": {},
   "outputs": [
    {
     "data": {
      "text/plain": [
       "1452.902f0"
      ]
     },
     "execution_count": 19,
     "metadata": {},
     "output_type": "execute_result"
    }
   ],
   "source": [
    "Float32(1452902e-3) #Convierte valores numéricos a tipo Float32"
   ]
  },
  {
   "cell_type": "code",
   "execution_count": 20,
   "id": "81910ad5",
   "metadata": {},
   "outputs": [
    {
     "data": {
      "text/plain": [
       "9"
      ]
     },
     "execution_count": 20,
     "metadata": {},
     "output_type": "execute_result"
    }
   ],
   "source": [
    "length([1 2 3 ; 4 5 6 ; 7 8 9]) #Calcula la longitud del arreglo ingresado como argumento"
   ]
  },
  {
   "cell_type": "markdown",
   "id": "b12559e5",
   "metadata": {},
   "source": [
    "**Nota** Para ejecutar una función, siempre se deben colocar paréntesis `()` después de su nombre "
   ]
  },
  {
   "cell_type": "code",
   "execution_count": 21,
   "id": "75d94534",
   "metadata": {},
   "outputs": [
    {
     "data": {
      "text/plain": [
       "eps (generic function with 10 methods)"
      ]
     },
     "execution_count": 21,
     "metadata": {},
     "output_type": "execute_result"
    }
   ],
   "source": [
    "eps #Julia detecta que 'eps' es una función, pero no la ejecuta porque faltan los paréntesis"
   ]
  },
  {
   "cell_type": "markdown",
   "id": "2a58d0b4",
   "metadata": {},
   "source": [
    "y, de ser necesario, colocar todos los argumentos que hagan falta para que la función poder ser ejecutada correctamente"
   ]
  },
  {
   "cell_type": "code",
   "execution_count": 22,
   "id": "7c3a62da",
   "metadata": {},
   "outputs": [
    {
     "ename": "LoadError",
     "evalue": "MethodError: no method matching Float32()\n\u001b[0mClosest candidates are:\n\u001b[0m  (::Type{T})(\u001b[91m::AbstractChar\u001b[39m) where T<:Union{AbstractChar, Number} at char.jl:50\n\u001b[0m  (::Type{T})(\u001b[91m::Base.TwicePrecision\u001b[39m) where T<:Number at twiceprecision.jl:266\n\u001b[0m  (::Type{T})(\u001b[91m::Complex\u001b[39m) where T<:Real at complex.jl:44\n\u001b[0m  ...",
     "output_type": "error",
     "traceback": [
      "MethodError: no method matching Float32()\n\u001b[0mClosest candidates are:\n\u001b[0m  (::Type{T})(\u001b[91m::AbstractChar\u001b[39m) where T<:Union{AbstractChar, Number} at char.jl:50\n\u001b[0m  (::Type{T})(\u001b[91m::Base.TwicePrecision\u001b[39m) where T<:Number at twiceprecision.jl:266\n\u001b[0m  (::Type{T})(\u001b[91m::Complex\u001b[39m) where T<:Real at complex.jl:44\n\u001b[0m  ...",
      "",
      "Stacktrace:",
      " [1] top-level scope",
      "   @ In[22]:1"
     ]
    }
   ],
   "source": [
    "Float32() #Obtenemos un mensaje de error porque la función necesita un argumento"
   ]
  },
  {
   "cell_type": "markdown",
   "id": "3ffa1406",
   "metadata": {},
   "source": [
    "**Nota** Para aplicarle una función a un arreglo _entrada a entrada_, se coloca un punto **`.`** antes de abrir el paréntesis:"
   ]
  },
  {
   "cell_type": "code",
   "execution_count": 23,
   "id": "36aed61c",
   "metadata": {},
   "outputs": [
    {
     "data": {
      "text/plain": [
       "5-element Vector{Int64}:\n",
       " 1\n",
       " 2\n",
       " 3\n",
       " 4\n",
       " 5"
      ]
     },
     "execution_count": 23,
     "metadata": {},
     "output_type": "execute_result"
    }
   ],
   "source": [
    "abs.([-1, -2, -3, -4, -5]) #Calculamos el valor absoluto de cada entrada del arreglo"
   ]
  },
  {
   "cell_type": "markdown",
   "id": "c4259f54",
   "metadata": {},
   "source": [
    "### Definición de funciones\n",
    "\n",
    "La mayoría de los lenguajes de programación tienen una gran cantidad de funciones predefinidas útiles, pero también nos dan la poderosa opción de definir nuestras propias funciones, lo que nos permite reusar bloques de código sin tener que reescribirlos cada vez. Más aún, hace posible dividir un programa largo en pedazos cortos y modulares.\n",
    "\n",
    "#### Funciones sin parámetros\n",
    "En Julia, la sintáxis para definir una función que no depende de ningún parámetro es la siguiente:\n",
    "\n",
    "$\\color{green}{\\textbf{function }} \\color{blue}{\\text{nombre}} \\text{()}$\n",
    "\n",
    "$\\quad \\quad \\text{bloque de instrucciones}$\n",
    "\n",
    "$\\color{green}{\\textbf{end}}$\n",
    "\n",
    "Después de haber definido la función $\\color{blue}{\\text{nombre}}$, podemos llamarla ejecutando el código $\\color{blue}{\\text{nombre}}\\text{()}$. Por ejemplo:"
   ]
  },
  {
   "cell_type": "code",
   "execution_count": 24,
   "id": "1b28cd98",
   "metadata": {},
   "outputs": [
    {
     "data": {
      "text/plain": [
       "saludo (generic function with 1 method)"
      ]
     },
     "execution_count": 24,
     "metadata": {},
     "output_type": "execute_result"
    }
   ],
   "source": [
    "function saludo()   #Declaramos el inicio de la definición de nuestra función 'saludo',\n",
    "    \n",
    "    print(\"¡Hola!\") #especificamos qué hace esta función y\n",
    "    \n",
    "end                 #declaramos el fin de su definición."
   ]
  },
  {
   "cell_type": "code",
   "execution_count": 25,
   "id": "193494b5",
   "metadata": {},
   "outputs": [
    {
     "name": "stdout",
     "output_type": "stream",
     "text": [
      "¡Hola!"
     ]
    }
   ],
   "source": [
    "saludo()            #Luego, ejecutamos nuestra función que no tiene parámetros."
   ]
  },
  {
   "cell_type": "markdown",
   "id": "84a9e702",
   "metadata": {},
   "source": [
    "#### Funciones con $N$ parámetros\n",
    "\n",
    "Dos palabras que se suelen confundir mucho en el ámbito de la programación son **argumento** y **parámetro**, pero es muy importante entender su distinción:\n",
    "* un **argumento** es un **valor específico de entrada** de una función, que se ingresa dentro de los paréntesis `()` al **llamarla**;\n",
    "* un **parámetro** es una **variable de la que depende** una función, que se ingresa dentro de los paréntesis `()` al **definirla**.\n",
    "\n",
    "Una vez aclarada esta distinción, la sintáxis en Julia para definir una función con un número $N$ de parámetros es la siguiente:\n",
    "\n",
    "$\\color{green}{\\textbf{function }} \\color{blue}{\\text{nombre}} \\text{(parámetro1, parámetro2, ... , parámetro$N$})$\n",
    "\n",
    "$\\quad \\quad \\text{bloque de instrucciones}$\n",
    "\n",
    "$\\color{green}{\\textbf{end}}$"
   ]
  },
  {
   "cell_type": "markdown",
   "id": "925f3a4b",
   "metadata": {},
   "source": [
    "La diferencia radica en que ahora el $\\text{bloque de instrucciones}$ puede hacer uso de los nombres $\\text{parámetro1}$ hasta $\\text{parámetro$N$}$ _como si fueran variables_. Lo que ocurre es que, al llamar esta función usando $N$ argumentos, se crean **variables temporales** de nombre $\\text{parámetro1}$, $\\text{parámetro2}$, etcétera, a las cuales se les asigna el valor de los argumentos ingresados **por orden de entrada**, y que **desaparecen cuando la función termina** de ejecutarse. Es decir, si llamamos a la función anterior usando los argumentos $\\text{argumento1}$, $\\text{argumento2}$, ..., $\\text{argumento$N$}$ como sigue:\n",
    "\n",
    "$\\color{blue}{\\text{nombre}} \\text{(argumento1, argumento2, ... , argumento$N$})$\n",
    "\n",
    "implícitamente se realizarán las siguientes asignaciones temporales\n",
    "\n",
    "$\\text{parámetro1} \\ \\color{magenta}{\\textbf{=}} \\ \\text{argumento1}$\n",
    "\n",
    "$\\dots$\n",
    "\n",
    "$\\text{parámetro$N$} \\ \\color{magenta}{\\textbf{=}} \\ \\text{argumento$N$}$\n",
    "\n",
    "que durarán hasta que termine de ejecutarse el $\\text{bloque de instrucciones}$."
   ]
  },
  {
   "cell_type": "markdown",
   "id": "27303ec3",
   "metadata": {},
   "source": [
    "Para ver un ejemplo de esto, definamos una función de dos parámetros que imprima a cada parámetro en una línea diferente, que llamaremos `imprimeEnDosLíneas`."
   ]
  },
  {
   "cell_type": "code",
   "execution_count": 26,
   "id": "6a089ca0",
   "metadata": {},
   "outputs": [
    {
     "data": {
      "text/plain": [
       "imprimeEnDosLíneas (generic function with 1 method)"
      ]
     },
     "execution_count": 26,
     "metadata": {},
     "output_type": "execute_result"
    }
   ],
   "source": [
    "function imprimeEnDosLíneas(texto1, texto2) #Definimos una función con dos parámetros\n",
    "    \n",
    "    println(texto1)\n",
    "    print(texto2)\n",
    "    \n",
    "end"
   ]
  },
  {
   "cell_type": "markdown",
   "id": "c61b82a4",
   "metadata": {},
   "source": [
    "Ahora, ejecutémosla con los argumentos `\"¡Hola,\"` y `\"grupo!\"`, en ese orden."
   ]
  },
  {
   "cell_type": "code",
   "execution_count": 27,
   "id": "d70b8830",
   "metadata": {},
   "outputs": [
    {
     "name": "stdout",
     "output_type": "stream",
     "text": [
      "¡Hola,\n",
      "grupo!"
     ]
    }
   ],
   "source": [
    "imprimeEnDosLíneas(\"¡Hola,\", \"grupo!\") #Llamamos a la función junto con dos argumentos"
   ]
  },
  {
   "cell_type": "markdown",
   "id": "9b37b830",
   "metadata": {},
   "source": [
    "Notemos que, al ejecutar la función, el primer parámetro  de la función (`texto1`) se utilizó como una variable a la que se le asignó el valor correspondiente al primer argumento ingresado (`\"¡Hola,\"`). Similarmente, el parámetro `texto2` fue utilizado como una variable a la que le fue asignada el argumento `\"grupo!\"`. Para verificar que estas asignaciones hayan sido temporales, podemos ejecutar la siguiente celda de código:"
   ]
  },
  {
   "cell_type": "code",
   "execution_count": 28,
   "id": "70024d2c",
   "metadata": {},
   "outputs": [
    {
     "ename": "LoadError",
     "evalue": "UndefVarError: texto1 not defined",
     "output_type": "error",
     "traceback": [
      "UndefVarError: texto1 not defined",
      ""
     ]
    }
   ],
   "source": [
    "texto1"
   ]
  },
  {
   "cell_type": "markdown",
   "id": "b94fad92",
   "metadata": {},
   "source": [
    "**Nota** Es posible crear variables a las que se les asigne el _nombre_ de una función:"
   ]
  },
  {
   "cell_type": "code",
   "execution_count": 29,
   "id": "e70a1fec",
   "metadata": {},
   "outputs": [
    {
     "name": "stdout",
     "output_type": "stream",
     "text": [
      "Sorprendente,\n",
      "¡¿no crees?!"
     ]
    }
   ],
   "source": [
    "imprimeEn2Líneas = imprimeEnDosLíneas #Asignamos una función a una nueva variable\n",
    "\n",
    "imprimeEn2Líneas(\"Sorprendente,\", \"¡¿no crees?!\")"
   ]
  },
  {
   "cell_type": "markdown",
   "id": "c8b9f0b9",
   "metadata": {},
   "source": [
    "#### Parámetros con valores predeterminados\n",
    "\n",
    "Si queremos que alguno de los parámetros tenga un **valor predeterminado** en caso de que, al llamar la función, se omita el argumento correspondiente, podemos utilizar la sintáxis siguiente:\n",
    "\n",
    "$\\color{green}{\\textbf{function }} \\color{blue}{\\text{nombre}} \\text{(parámetro}\\color{magenta}{\\textbf{=}}\\text{valorPredeterminado})$\n",
    "\n",
    "$\\quad \\quad \\text{bloque de instrucciones}$\n",
    "\n",
    "$\\color{green}{\\textbf{end}}$\n",
    "\n",
    "Por ejemplo:"
   ]
  },
  {
   "cell_type": "code",
   "execution_count": 30,
   "id": "0100c36b",
   "metadata": {},
   "outputs": [
    {
     "data": {
      "text/plain": [
       "sumar1 (generic function with 2 methods)"
      ]
     },
     "execution_count": 30,
     "metadata": {},
     "output_type": "execute_result"
    }
   ],
   "source": [
    "function sumar1(x=0)\n",
    "    \n",
    "    x += 1\n",
    "    \n",
    "end"
   ]
  },
  {
   "cell_type": "code",
   "execution_count": 11,
   "id": "ef4d560e",
   "metadata": {},
   "outputs": [
    {
     "data": {
      "text/plain": [
       "sumar2 (generic function with 2 methods)"
      ]
     },
     "execution_count": 11,
     "metadata": {},
     "output_type": "execute_result"
    }
   ],
   "source": [
    "function sumar2(x=0) #¡Ejecuta esta función con diferentes parámetros y luego sin parámetro!\n",
    "    \n",
    "    x += 1\n",
    "    \n",
    "end"
   ]
  },
  {
   "cell_type": "markdown",
   "id": "1af220de",
   "metadata": {},
   "source": [
    "#### Parámetros con tipos de datos predeterminados\n",
    "\n",
    "Si queremos que alguno de los parámetros tenga un **tipo de dato predeterminado**, podemos utilizar la sintáxis siguiente:\n",
    "\n",
    "$\\color{green}{\\textbf{function }} \\color{blue}{\\text{nombre}} \\text{(parámetro}\\color{green}{\\textbf{::}\\text{TipoDeDato}})$\n",
    "\n",
    "$\\quad \\quad \\text{bloque de instrucciones}$\n",
    "\n",
    "$\\color{green}{\\textbf{end}}$\n",
    "\n",
    "Por ejemplo:"
   ]
  },
  {
   "cell_type": "code",
   "execution_count": 32,
   "id": "d800ec9e",
   "metadata": {},
   "outputs": [
    {
     "data": {
      "text/plain": [
       "sumar1SiEsFloat64 (generic function with 1 method)"
      ]
     },
     "execution_count": 32,
     "metadata": {},
     "output_type": "execute_result"
    }
   ],
   "source": [
    "function sumar1SiEsFloat64(x::Float64)\n",
    "    \n",
    "    x += 1\n",
    "    \n",
    "end"
   ]
  },
  {
   "cell_type": "code",
   "execution_count": 13,
   "id": "151f0ddc",
   "metadata": {},
   "outputs": [
    {
     "data": {
      "text/plain": [
       "sumar1SiEsFloat64 (generic function with 3 methods)"
      ]
     },
     "execution_count": 13,
     "metadata": {},
     "output_type": "execute_result"
    }
   ],
   "source": [
    "function sumar1SiEsFloat64(x=5) #¡Observa el error que aparece y corrígelo!\n",
    "x += 1\n",
    "    \n",
    "end"
   ]
  },
  {
   "cell_type": "markdown",
   "id": "186492fb",
   "metadata": {},
   "source": [
    "#### Sintáxis simplificada\n",
    "\n",
    "Para definir funciones cuyo bloque de instrucciones pueda resumirse en una expresión, se puede utilizar la siguiente sintáxis:\n",
    "\n",
    "$\\color{blue}{\\text{nombre(parámetro1, parámetro2, ..., parámetro$N$) }} \\color{magenta}{\\textbf{=}} \\text{ expresión}$\n",
    "\n",
    "Por ejemplo:"
   ]
  },
  {
   "cell_type": "code",
   "execution_count": 34,
   "id": "170f188d",
   "metadata": {},
   "outputs": [
    {
     "data": {
      "text/plain": [
       "salu2 (generic function with 1 method)"
      ]
     },
     "execution_count": 34,
     "metadata": {},
     "output_type": "execute_result"
    }
   ],
   "source": [
    "salu2() = print(\"¡Hola!\") #Asignamos una expresión a una función sin parámetros."
   ]
  },
  {
   "cell_type": "code",
   "execution_count": 35,
   "id": "55317dbc",
   "metadata": {},
   "outputs": [
    {
     "name": "stdout",
     "output_type": "stream",
     "text": [
      "¡Hola!"
     ]
    }
   ],
   "source": [
    "salu2()                   #Luego, ejecutamos dicha función."
   ]
  },
  {
   "cell_type": "markdown",
   "id": "d0b23b45",
   "metadata": {},
   "source": [
    "ó, para cálculos numéricos,"
   ]
  },
  {
   "cell_type": "code",
   "execution_count": 36,
   "id": "af410dca",
   "metadata": {},
   "outputs": [
    {
     "data": {
      "text/plain": [
       "productoPuntoR2 (generic function with 1 method)"
      ]
     },
     "execution_count": 36,
     "metadata": {},
     "output_type": "execute_result"
    }
   ],
   "source": [
    "productoPuntoR2(u1,u2,v1,v2) = u1*v1 + u2*v2 #Nótese el uso de parámetros como arreglos"
   ]
  },
  {
   "cell_type": "code",
   "execution_count": 37,
   "id": "0c284963",
   "metadata": {},
   "outputs": [
    {
     "data": {
      "text/plain": [
       "0"
      ]
     },
     "execution_count": 37,
     "metadata": {},
     "output_type": "execute_result"
    }
   ],
   "source": [
    "productoPuntoR2(1,0,0,1)"
   ]
  },
  {
   "cell_type": "markdown",
   "id": "325b06f2",
   "metadata": {},
   "source": [
    "lo que se asemeja bastante a una regla de correspondencia. En particular, podemos definir funciones usando los parmámetros como arreglos:"
   ]
  },
  {
   "cell_type": "code",
   "execution_count": 38,
   "id": "4828953c",
   "metadata": {},
   "outputs": [
    {
     "data": {
      "text/plain": [
       "productoPuntoR2versión2 (generic function with 1 method)"
      ]
     },
     "execution_count": 38,
     "metadata": {},
     "output_type": "execute_result"
    }
   ],
   "source": [
    "productoPuntoR2versión2(U,V) = U[1]*V[1] + U[2]*V[2]"
   ]
  },
  {
   "cell_type": "code",
   "execution_count": 39,
   "id": "7c0620fc",
   "metadata": {},
   "outputs": [
    {
     "data": {
      "text/plain": [
       "0"
      ]
     },
     "execution_count": 39,
     "metadata": {},
     "output_type": "execute_result"
    }
   ],
   "source": [
    "productoPuntoR2versión2([1,0],[0,1])"
   ]
  },
  {
   "cell_type": "markdown",
   "id": "e861618c",
   "metadata": {},
   "source": [
    "### Consideraciones sobre la creación de funciones\n",
    "\n",
    "#### ¿Cuándo debo crear una función?\n",
    "* Cuando tengas un bloque de código recurrente en tu programa, considera hacerlo una función.\n",
    "* Cuanto tengas un bloque de código que quieras reusar o generalizar, conviértelo en una función.\n",
    "* Cuando tengas un bloque de código muy complejo y difícil de leer, considera crear una o más funciones simples y reemplazar partes del código con estas funciones **para hacerlo más claro** (i.e. _¡sin excederte!_).\n",
    "* Cuando quieras hacer un ciclo recursivo, tendrás que crear una función que se llame a sí misma (como veremos en el _notebook_ [`1.7-Ciclos.ipynb`](./1.7-Ciclos.ipynb)).\n",
    "\n",
    "#### ¿Cómo nombro a una función?\n",
    "\n",
    "La mejor práctica es nombrar a una función _por lo que hace_, pues una de las principales razones para crearlas y usarlas es hacer nuestro **código más claro**, no más confuso.\n",
    "\n",
    "#### Modificación de funciones _a posteriori_\n",
    "\n",
    "Si creamos una función y la usamos en varias partes de nuestro programa, entonces ¡cada vez que modifiquemos dicha función deberemos revisar que siga funcionando correctamente _en cada parte del programa donde la usamos_!"
   ]
  },
  {
   "cell_type": "markdown",
   "id": "0edd1d5f",
   "metadata": {},
   "source": [
    "## Alcance local y global (_scope_)\n",
    "\n",
    "Anteriormente habíamos observado que cuando llamamos a una función de uno o varios parámetros junto con el número correspondiente de argumentos, implícitamente se crean **variables** asignando a los nombres de cada parámetro el valor del argumento correspondiente, y que esta asignación sólo es válida dentro del bloque de instrucciones de la función. Por ejemplo:"
   ]
  },
  {
   "cell_type": "code",
   "execution_count": 40,
   "id": "867b0c16",
   "metadata": {},
   "outputs": [
    {
     "name": "stdout",
     "output_type": "stream",
     "text": [
      "¡Hola,\n",
      "grupo!"
     ]
    },
    {
     "ename": "LoadError",
     "evalue": "UndefVarError: texto1 not defined",
     "output_type": "error",
     "traceback": [
      "UndefVarError: texto1 not defined",
      ""
     ]
    }
   ],
   "source": [
    "function imprimeEnDosLíneas(texto1, texto2) #Definimos una función con dos parámetros\n",
    "    \n",
    "    println(texto1)\n",
    "    print(texto2)\n",
    "    \n",
    "end\n",
    "\n",
    "imprimeEnDosLíneas(\"¡Hola,\", \"grupo!\") #Llamamos la función con dos argumentos\n",
    "\n",
    "texto1 #Llamamos a una variable que se creó implícitamente dentro de la función"
   ]
  },
  {
   "cell_type": "markdown",
   "id": "6cdf7d31",
   "metadata": {},
   "source": [
    "Más aún, en la definición de una función, el bloque de instrucciones puede incluir asignaciones de variables de forma explícita, las cuales tienen la misma duración que las variables creadas implícitamente:"
   ]
  },
  {
   "cell_type": "code",
   "execution_count": 14,
   "id": "4586b6c4",
   "metadata": {},
   "outputs": [
    {
     "name": "stdout",
     "output_type": "stream",
     "text": [
      "El valor absoluto de -5.5 es 5.5."
     ]
    },
    {
     "ename": "LoadError",
     "evalue": "UndefVarError: valAbs not defined",
     "output_type": "error",
     "traceback": [
      "UndefVarError: valAbs not defined",
      ""
     ]
    }
   ],
   "source": [
    "function valorAbsoluto(número) #Definimos una función donde\n",
    "    \n",
    "    valAbs = sqrt(número^2)    #se crea una variable explícitamente a través de una asignación.\n",
    "    print(\"El valor absoluto de $número es $valAbs.\")\n",
    "    \n",
    "end\n",
    "\n",
    "valorAbsoluto(-5.5) #Llamamos a la función y\n",
    "\n",
    "valAbs              #llamamos a la variable que se creó explícitamente dentro de la función"
   ]
  },
  {
   "cell_type": "markdown",
   "id": "94444d91",
   "metadata": {},
   "source": [
    "Para referirnos a este fenómeno, decimos que las variables asignadas implícita o explícitamente en la definición de una función tienen **alcance local** al bloque de instrucciones de la función. En general, el **alcance de una variable** es la **región del código desde la cual es accesible**.\n",
    "\n",
    "En contraposición al alcance _local_, una variable tiene **alcance global** si es **accesible desde todo el código**. Para declarar a una variable con alcance global, se hace una asignación colocando la palabra **`global`** antes del nombre de dicha variable:"
   ]
  },
  {
   "cell_type": "code",
   "execution_count": 42,
   "id": "6060ce69",
   "metadata": {},
   "outputs": [
    {
     "name": "stdout",
     "output_type": "stream",
     "text": [
      "Diego"
     ]
    },
    {
     "data": {
      "text/plain": [
       "\"Mauricio\""
      ]
     },
     "execution_count": 42,
     "metadata": {},
     "output_type": "execute_result"
    }
   ],
   "source": [
    "nombre = \"Diego\" #Asignamos el valor de tipo String \"Diego\" a la variable 'nombre'\n",
    "\n",
    "function imprimeString(string::String) #Definimos una función que toma un String,\n",
    "    \n",
    "    print(string)                      #lo imprime y\n",
    "    global nombre = \"Mauricio\"         #define una variable global con valor \"Mauricio\"\n",
    "    \n",
    "end\n",
    "\n",
    "imprimeString(nombre) #Al momento de llamar la función, 'nombre' tiene asignado \"Diego\".\n",
    "\n",
    "nombre                #=Después de haberla llamado, 'nombre' se ha convertido en una\n",
    "                        variable global con valor \"Mauricio\".=#"
   ]
  },
  {
   "cell_type": "markdown",
   "id": "8561650a",
   "metadata": {},
   "source": [
    "La razón de que las variables tengan alcance local de forma predeterminada, y no global, es evitar conflictos cuando se usa un mismo nombre para dos o más cosas distintas, lo que se conoce como una \"colisión de nombres\". Aún así, la mejor práctica siempre será **evitar reusar nombres** al momento de definir variables, constantes o funciones en la medida de lo posible.\n",
    "\n",
    "**Nota** El **alcance** (o _scope_, en inglés) es un concepto fundamental en programación; sin embargo, es muy difícil de explicar bien mediante _notebooks_, pues estos tienen comportamientos particulares, distintos a los archivos de texto simples. Por ahora, con entender lo visto en esta sección es suficiente."
   ]
  },
  {
   "cell_type": "markdown",
   "id": "d5273dd7",
   "metadata": {},
   "source": [
    "## Notas finales\n",
    "\n",
    "* Hay algunas palabras \"clave\", conocidas como _keywords_, que están \"reservadas\" por Julia para ciertos usos específicos (como **`function`** que, como vimos en este _notebook_, se usa para declarar la definición de una función), por lo que **no podemos usarlas para definir variables ni funciones**. Puedes consultar una lista de ellas [aquí](https://docs.julialang.org/en/v1/base/base/#Keywords).\n",
    "* Al definir variables, constantes y funciones, es válido utilizar los caracteres Unicode que se obtienen a través de comandos de $\\LaTeX$ (como vimos en el _notebook_ [`1.3-Tipos_de_datos_de_texto_y_arreglos.ipynb`](./1.3-Tipos_de_datos_de_texto_y_arreglos.ipynb)) en el nombre:"
   ]
  },
  {
   "cell_type": "code",
   "execution_count": 43,
   "id": "92c18935",
   "metadata": {},
   "outputs": [
    {
     "data": {
      "text/plain": [
       "1.5707963267948966"
      ]
     },
     "execution_count": 43,
     "metadata": {},
     "output_type": "execute_result"
    }
   ],
   "source": [
    "θ = π/2"
   ]
  },
  {
   "cell_type": "code",
   "execution_count": 44,
   "id": "51674b5f",
   "metadata": {},
   "outputs": [
    {
     "data": {
      "text/plain": [
       "6.283185307179586"
      ]
     },
     "execution_count": 44,
     "metadata": {},
     "output_type": "execute_result"
    }
   ],
   "source": [
    "const τ = 2*π"
   ]
  },
  {
   "cell_type": "code",
   "execution_count": 45,
   "id": "ef4ba20d",
   "metadata": {},
   "outputs": [
    {
     "data": {
      "text/plain": [
       "2.220446049250313e-16"
      ]
     },
     "execution_count": 45,
     "metadata": {},
     "output_type": "execute_result"
    }
   ],
   "source": [
    "ϵ = eps\n",
    "\n",
    "ϵ()"
   ]
  },
  {
   "cell_type": "markdown",
   "id": "1fffaf32",
   "metadata": {},
   "source": [
    "## Recursos complementarios\n",
    "\n",
    "Manuales de Julia:\n",
    "* [Variables](https://docs.julialang.org/en/v1/manual/variables/),\n",
    "* [Constantes](https://docs.julialang.org/en/v1/manual/variables-and-scoping/#Constants),\n",
    "* [Funciones](https://docs.julialang.org/en/v1/manual/functions/),\n",
    "* [Alcance de variables](https://docs.julialang.org/en/v1/manual/variables-and-scoping/#scope-of-variables),\n",
    "* [`return`](https://docs.julialang.org/en/v1/manual/functions/#The-return-Keyword)."
   ]
  }
 ],
 "metadata": {
  "kernelspec": {
   "display_name": "Julia 1.8.5",
   "language": "julia",
   "name": "julia-1.8"
  },
  "language_info": {
   "file_extension": ".jl",
   "mimetype": "application/julia",
   "name": "julia",
   "version": "1.8.5"
  }
 },
 "nbformat": 4,
 "nbformat_minor": 5
}
