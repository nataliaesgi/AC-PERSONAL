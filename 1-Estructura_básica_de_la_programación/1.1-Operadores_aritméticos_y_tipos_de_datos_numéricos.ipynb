{
 "cells": [
  {
   "cell_type": "markdown",
   "id": "6713df60",
   "metadata": {},
   "source": [
    "# Operadores aritméticos y tipos de datos numéricos\n",
    "\n",
    "En este _notebook_, introduciremos los operadores necesarios para hacer operaciones aritméticas, así como los conceptos de **precedencia** y **asociatividad** de operadores, **tipos de datos**, y entenderemos cómo una computadora almacena números enteros en su memoria y realiza cálculos con ellos."
   ]
  },
  {
   "cell_type": "markdown",
   "id": "78bea6c3",
   "metadata": {},
   "source": [
    "## Números\n",
    "\n",
    "Antes de pasar a cosas más generales, veamos cómo podemos _representar_ números en Julia.\n",
    "\n",
    "### Naturales ($\\mathbb{N}$)\n",
    "\n",
    "Los números naturales se escriben simplemente utilizando el número correspondiente:"
   ]
  },
  {
   "cell_type": "code",
   "execution_count": 2,
   "id": "02682fe1",
   "metadata": {},
   "outputs": [
    {
     "data": {
      "text/plain": [
       "0"
      ]
     },
     "execution_count": 2,
     "metadata": {},
     "output_type": "execute_result"
    }
   ],
   "source": [
    "0"
   ]
  },
  {
   "cell_type": "markdown",
   "id": "2ccd8897",
   "metadata": {},
   "source": [
    "### Enteros ($\\mathbb{Z}$)\n",
    "\n",
    "Los enteros negativos (i.e., enteros no naturales) se escriben con un signo negativo **`-`** al inicio:"
   ]
  },
  {
   "cell_type": "code",
   "execution_count": 3,
   "id": "6a778de8",
   "metadata": {},
   "outputs": [
    {
     "data": {
      "text/plain": [
       "-5"
      ]
     },
     "execution_count": 3,
     "metadata": {},
     "output_type": "execute_result"
    }
   ],
   "source": [
    "-5"
   ]
  },
  {
   "cell_type": "markdown",
   "id": "9833df5e",
   "metadata": {},
   "source": [
    "### Racionales $(\\mathbb{Q})$\n",
    "\n",
    "Los número racionales se escriben como dos enteros separados por el símbolo **`//`**:"
   ]
  },
  {
   "cell_type": "code",
   "execution_count": 4,
   "id": "c19bd894",
   "metadata": {},
   "outputs": [
    {
     "data": {
      "text/plain": [
       "3//2"
      ]
     },
     "execution_count": 4,
     "metadata": {},
     "output_type": "execute_result"
    }
   ],
   "source": [
    "3 // 2"
   ]
  },
  {
   "cell_type": "markdown",
   "id": "39eb24ef",
   "metadata": {},
   "source": [
    "### Reales ($\\mathbb{R}$)\n",
    "\n",
    "Los números reales que **no** son enteros ni racionales se escriben utilizando el punto decimal (**`.`**):"
   ]
  },
  {
   "cell_type": "code",
   "execution_count": 5,
   "id": "a595c4f9",
   "metadata": {},
   "outputs": [
    {
     "data": {
      "text/plain": [
       "1924.875"
      ]
     },
     "execution_count": 5,
     "metadata": {},
     "output_type": "execute_result"
    }
   ],
   "source": [
    "1924.875"
   ]
  },
  {
   "cell_type": "markdown",
   "id": "e6758a66",
   "metadata": {},
   "source": [
    "o bien, utilizando notación científica, reemplazando \"$\\times 10^\\wedge$\" por la letra `e`:"
   ]
  },
  {
   "cell_type": "code",
   "execution_count": 6,
   "id": "3f5ac0b9",
   "metadata": {},
   "outputs": [
    {
     "data": {
      "text/plain": [
       "1924.875"
      ]
     },
     "execution_count": 6,
     "metadata": {},
     "output_type": "execute_result"
    }
   ],
   "source": [
    "1.924875e3"
   ]
  },
  {
   "cell_type": "markdown",
   "id": "beaf2408",
   "metadata": {},
   "source": [
    "### Imaginarios ($\\mathbb{I}$)\n",
    "\n",
    "Los números imaginarios se escriben como múltiplos de la unidad imaginaria $i:=\\sqrt{-1}$, la cual está implementada en Julia como `im`."
   ]
  },
  {
   "cell_type": "code",
   "execution_count": 7,
   "id": "68ff2c9e",
   "metadata": {},
   "outputs": [
    {
     "data": {
      "text/plain": [
       "0 + 6im"
      ]
     },
     "execution_count": 7,
     "metadata": {},
     "output_type": "execute_result"
    }
   ],
   "source": [
    "6im"
   ]
  },
  {
   "cell_type": "code",
   "execution_count": 8,
   "id": "127988b4",
   "metadata": {},
   "outputs": [
    {
     "data": {
      "text/plain": [
       "0//1 + 5//2*im"
      ]
     },
     "execution_count": 8,
     "metadata": {},
     "output_type": "execute_result"
    }
   ],
   "source": [
    "(5//2)im"
   ]
  },
  {
   "cell_type": "code",
   "execution_count": 9,
   "id": "6a3c9bec",
   "metadata": {},
   "outputs": [
    {
     "data": {
      "text/plain": [
       "0.0 + 2.10395im"
      ]
     },
     "execution_count": 9,
     "metadata": {},
     "output_type": "execute_result"
    }
   ],
   "source": [
    "2.10395im"
   ]
  },
  {
   "cell_type": "markdown",
   "id": "006eb9cd",
   "metadata": {},
   "source": [
    "Notemos que, en realidad, Julia los está interpretando como números complejos con parte real cero (¡observen cómo cambia el ''cero'' de la parte real dependiendo del argumento que demos para la parte imaginaria!). Esto nos da una pista de cómo escribir números complejos."
   ]
  },
  {
   "cell_type": "markdown",
   "id": "1d9d02bd",
   "metadata": {},
   "source": [
    "### Complejos ($\\mathbb{C}$)\n",
    "\n",
    "Los números complejos se escriben como la suma de un número real más uno imaginario:"
   ]
  },
  {
   "cell_type": "code",
   "execution_count": 10,
   "id": "dd1cc2ec",
   "metadata": {},
   "outputs": [
    {
     "data": {
      "text/plain": [
       "-5 + 6im"
      ]
     },
     "execution_count": 10,
     "metadata": {},
     "output_type": "execute_result"
    }
   ],
   "source": [
    "-5 + 6im"
   ]
  },
  {
   "cell_type": "code",
   "execution_count": 11,
   "id": "25eb0445",
   "metadata": {},
   "outputs": [
    {
     "data": {
      "text/plain": [
       "3//2 - 5//2*im"
      ]
     },
     "execution_count": 11,
     "metadata": {},
     "output_type": "execute_result"
    }
   ],
   "source": [
    "3//2 + 5//2im"
   ]
  },
  {
   "cell_type": "code",
   "execution_count": 12,
   "id": "37e995e2",
   "metadata": {},
   "outputs": [
    {
     "data": {
      "text/plain": [
       "1924.875 + 2.10395im"
      ]
     },
     "execution_count": 12,
     "metadata": {},
     "output_type": "execute_result"
    }
   ],
   "source": [
    "1924.875 + 2.10395im"
   ]
  },
  {
   "cell_type": "markdown",
   "id": "209cc54b",
   "metadata": {},
   "source": [
    "El símbolo de **`+`**, como es de esperarse, realiza una operación de suma. Compara el resultado de `3//2`**`+`**`5//2im` con el de ``(5//2)im``. ¿Qué diferencia notas, y a qué crees que se deba?"
   ]
  },
  {
   "cell_type": "markdown",
   "id": "97f5a887",
   "metadata": {},
   "source": [
    "## Operadores aritméticos\n",
    "En Julia, los símbolos **`+`**, **`-`**, **`*`**, **`/`** y **`^`** se utilizan para denotar las operaciones de suma, resta, multiplicación, división y exponenciación, respectivamente, de manera similar a como lo hacemos en matemáticas."
   ]
  },
  {
   "cell_type": "code",
   "execution_count": 13,
   "id": "8f908cf8",
   "metadata": {},
   "outputs": [
    {
     "data": {
      "text/plain": [
       "6"
      ]
     },
     "execution_count": 13,
     "metadata": {},
     "output_type": "execute_result"
    }
   ],
   "source": [
    "4+2"
   ]
  },
  {
   "cell_type": "markdown",
   "id": "1f1033f6",
   "metadata": {},
   "source": [
    "Generalmente, los símbolos que realizan alguna operación en Julia se conocen como _operadores_; en particular, **`+`**, **`-`**, **`*`**, **`/`** y **`^`** son **operadores aritméticos**.\n",
    "\n",
    "**Ejercicio** Obten cada uno de los valores siguientes con **una sola modificación** de la expresión `4+2`.\n",
    "\n",
    "* 2\n",
    "* 4\n",
    "* 8\n",
    "* 16\n",
    "\n",
    "Asegúrate de usar cada operador aritmético al menos una vez. ¿De cuántas maneras diferentes podrás hacerlo para cada número?"
   ]
  },
  {
   "cell_type": "markdown",
   "id": "05060732",
   "metadata": {},
   "source": [
    "Para obtener el numero 2"
   ]
  },
  {
   "cell_type": "code",
   "execution_count": 15,
   "id": "98261dff",
   "metadata": {},
   "outputs": [
    {
     "data": {
      "text/plain": [
       "2"
      ]
     },
     "execution_count": 15,
     "metadata": {},
     "output_type": "execute_result"
    }
   ],
   "source": [
    "4+-2"
   ]
  },
  {
   "cell_type": "code",
   "execution_count": 16,
   "id": "9581d47b",
   "metadata": {},
   "outputs": [
    {
     "data": {
      "text/plain": [
       "2"
      ]
     },
     "execution_count": 16,
     "metadata": {},
     "output_type": "execute_result"
    }
   ],
   "source": [
    "4-2"
   ]
  },
  {
   "cell_type": "code",
   "execution_count": 17,
   "id": "4b238c90",
   "metadata": {},
   "outputs": [
    {
     "data": {
      "text/plain": [
       "2//1"
      ]
     },
     "execution_count": 17,
     "metadata": {},
     "output_type": "execute_result"
    }
   ],
   "source": [
    "4//2"
   ]
  },
  {
   "cell_type": "markdown",
   "id": "0c939be8",
   "metadata": {},
   "source": [
    "Para el número 4"
   ]
  },
  {
   "cell_type": "code",
   "execution_count": 18,
   "id": "62a8f634",
   "metadata": {},
   "outputs": [
    {
     "data": {
      "text/plain": [
       "4"
      ]
     },
     "execution_count": 18,
     "metadata": {},
     "output_type": "execute_result"
    }
   ],
   "source": [
    "2+2"
   ]
  },
  {
   "cell_type": "code",
   "execution_count": null,
   "id": "5445054e",
   "metadata": {},
   "outputs": [],
   "source": [
    "Para el número 8"
   ]
  },
  {
   "cell_type": "code",
   "execution_count": 19,
   "id": "88987381",
   "metadata": {},
   "outputs": [
    {
     "data": {
      "text/plain": [
       "8"
      ]
     },
     "execution_count": 19,
     "metadata": {},
     "output_type": "execute_result"
    }
   ],
   "source": [
    "4+4"
   ]
  },
  {
   "cell_type": "code",
   "execution_count": 20,
   "id": "e3171bbf",
   "metadata": {},
   "outputs": [
    {
     "data": {
      "text/plain": [
       "8"
      ]
     },
     "execution_count": 20,
     "metadata": {},
     "output_type": "execute_result"
    }
   ],
   "source": [
    "4*2"
   ]
  },
  {
   "cell_type": "markdown",
   "id": "a9755c52",
   "metadata": {},
   "source": [
    "Para el número 16"
   ]
  },
  {
   "cell_type": "code",
   "execution_count": 21,
   "id": "b315fe95",
   "metadata": {},
   "outputs": [
    {
     "data": {
      "text/plain": [
       "16"
      ]
     },
     "execution_count": 21,
     "metadata": {},
     "output_type": "execute_result"
    }
   ],
   "source": [
    "4^2"
   ]
  },
  {
   "cell_type": "code",
   "execution_count": 22,
   "id": "8af34f3a",
   "metadata": {},
   "outputs": [
    {
     "data": {
      "text/plain": [
       "16"
      ]
     },
     "execution_count": 22,
     "metadata": {},
     "output_type": "execute_result"
    }
   ],
   "source": [
    "4+12"
   ]
  },
  {
   "cell_type": "markdown",
   "id": "1fffc345",
   "metadata": {},
   "source": [
    "### Precedencia\n",
    "\n",
    "Evaluemos una expresión con muchos operadores aritméticos, pero ningún paréntesis para indicar cuáles operaciones queremos que se realicen primero. ¿Puedes explicar qué está sucediendo?"
   ]
  },
  {
   "cell_type": "code",
   "execution_count": 23,
   "id": "e24b2ad2",
   "metadata": {},
   "outputs": [
    {
     "data": {
      "text/plain": [
       "-41"
      ]
     },
     "execution_count": 23,
     "metadata": {},
     "output_type": "execute_result"
    }
   ],
   "source": [
    "4 - 5 * 3 ^ 2"
   ]
  },
  {
   "cell_type": "markdown",
   "id": "3465fe1d",
   "metadata": {},
   "source": [
    "Respuesta: Como se mencionó en clase y como se menciona más adelante, lo que sucede es que JULIA, sigue el orden conocido como \"jerarquia de operaciones\", con el cual se reculven las operaciones combinadas."
   ]
  },
  {
   "cell_type": "markdown",
   "id": "defcc588",
   "metadata": {},
   "source": [
    "Observemos que el resultado que obtenemos es consistente, es decir, no cambia si ejecutamos la celda más veces. Para poder evaluar expresiones como ésta (con muchos operadores -en general- y sin paréntesis para indicar el orden de las operaciones) de forma consistente, Julia debe tener un _orden preestablecido_ en el cual ejecutar a los operadores. En el caso particular de los operadores aritméticos, el orden es el mismo que aprendemos en la educación básica:\n",
    "* primero, elevas los exponentes;\n",
    "* luego, realizas las multiplicaciones/divisiones;\n",
    "* finalmente, haces las sumas/restas.\n",
    "\n",
    "Para describir esto en términos de operadores de Julia, diríamos que:\n",
    "* el operador `^` tiene mayor **precedencia** que los operadores `*`, `/`, `+` y `-`;\n",
    "* los operadores `*` y `/` tienen la misma **precedencia**, la cual es menor a la de `^` pero mayor a las de `+` y `-`;\n",
    "* los operadores `+` y `-` tienen la misma **precedencia**, la cual es menor a la de `^`, y a la de `*` y `/`."
   ]
  },
  {
   "cell_type": "markdown",
   "id": "b394fb96",
   "metadata": {},
   "source": [
    "Para revisar la **precedencia** de un operador en Julia, podemos utilizar la función `Base.operator_precedence`, con la sintáxis\n",
    "\n",
    "$\\text{Base}\\color{magenta}{\\text{.}}\\color{green}{\\text{operator_precedence}}\\text{(}\\color{green}{\\text{:op}}\\text{)}$\n",
    "\n",
    "en donde $\\text{op}$ es el operador en cuestión, como en el siguiente ejemplo:"
   ]
  },
  {
   "cell_type": "code",
   "execution_count": 24,
   "id": "c70225b8",
   "metadata": {},
   "outputs": [
    {
     "data": {
      "text/plain": [
       "11"
      ]
     },
     "execution_count": 24,
     "metadata": {},
     "output_type": "execute_result"
    }
   ],
   "source": [
    "Base.operator_precedence(:+)"
   ]
  },
  {
   "cell_type": "markdown",
   "id": "0afd29f5",
   "metadata": {},
   "source": [
    "**Ejercicio** Verifica las relaciones entre las precedencias de los operadores aritméticos discutidas en el párrafo anterior."
   ]
  },
  {
   "cell_type": "code",
   "execution_count": 25,
   "id": "15722353",
   "metadata": {},
   "outputs": [
    {
     "data": {
      "text/plain": [
       "11"
      ]
     },
     "execution_count": 25,
     "metadata": {},
     "output_type": "execute_result"
    }
   ],
   "source": [
    "Base.operator_precedence(:+)"
   ]
  },
  {
   "cell_type": "code",
   "execution_count": 26,
   "id": "9f071e0e",
   "metadata": {},
   "outputs": [
    {
     "data": {
      "text/plain": [
       "11"
      ]
     },
     "execution_count": 26,
     "metadata": {},
     "output_type": "execute_result"
    }
   ],
   "source": [
    "Base.operator_precedence(:-)"
   ]
  },
  {
   "cell_type": "code",
   "execution_count": 27,
   "id": "12450421",
   "metadata": {},
   "outputs": [
    {
     "data": {
      "text/plain": [
       "12"
      ]
     },
     "execution_count": 27,
     "metadata": {},
     "output_type": "execute_result"
    }
   ],
   "source": [
    "Base.operator_precedence(:*)"
   ]
  },
  {
   "cell_type": "code",
   "execution_count": 28,
   "id": "07282933",
   "metadata": {},
   "outputs": [
    {
     "data": {
      "text/plain": [
       "12"
      ]
     },
     "execution_count": 28,
     "metadata": {},
     "output_type": "execute_result"
    }
   ],
   "source": [
    "Base.operator_precedence(:/)"
   ]
  },
  {
   "cell_type": "code",
   "execution_count": 29,
   "id": "22aebf8d",
   "metadata": {},
   "outputs": [
    {
     "data": {
      "text/plain": [
       "15"
      ]
     },
     "execution_count": 29,
     "metadata": {},
     "output_type": "execute_result"
    }
   ],
   "source": [
    "Base.operator_precedence(:^)"
   ]
  },
  {
   "cell_type": "markdown",
   "id": "81769746",
   "metadata": {},
   "source": [
    "Se verifica la precedencia de las operaciones vistas anteriomente, obtuvimos que:\n",
    "`+`=`-` y `*`=`/`\n",
    ", además de comprobar que: `+` y `-` `<` `*`= `/` `<` `^`"
   ]
  },
  {
   "cell_type": "markdown",
   "id": "2e3d9d5f",
   "metadata": {},
   "source": [
    "### Asociatividad\n",
    "\n",
    "¿Qué sucede si queremos evaluar una expresión en donde _todos_ los operadores tienen la misma precedencia, y tampoco hay paréntesis para indicar qué operadores irán primero? La manera más consistente de evaluar expresiones de este tipo es que, para cada valor de precedencia, Julia decida si va a evaluar a los operadores de dicha precedencia asociándolos por la izquierda (lo que equivaldría a \"ejecutar el código de izquierda a derecha\") o asociándolos por la derecha (lo que equivaldría a \"ejecutar el código de derecha a izquierda\"). En el primer caso, decimos que todos los operadores de precedencia $n$ tienen **asociatividad izquierda** mientras que, en el segundo, decimos que tienen **asociatividad derecha**."
   ]
  },
  {
   "cell_type": "code",
   "execution_count": 30,
   "id": "46dbe17f",
   "metadata": {},
   "outputs": [
    {
     "data": {
      "text/plain": [
       "16.0"
      ]
     },
     "execution_count": 30,
     "metadata": {},
     "output_type": "execute_result"
    }
   ],
   "source": [
    "8 * 2 / 4 * 4"
   ]
  },
  {
   "cell_type": "code",
   "execution_count": 31,
   "id": "2abcdd3c",
   "metadata": {},
   "outputs": [
    {
     "data": {
      "text/plain": [
       "16.0"
      ]
     },
     "execution_count": 31,
     "metadata": {},
     "output_type": "execute_result"
    }
   ],
   "source": [
    "( (8 * 2) / 4) * 4 #misma precedencia, asociatividad izquierda"
   ]
  },
  {
   "cell_type": "code",
   "execution_count": 32,
   "id": "16b19776",
   "metadata": {},
   "outputs": [
    {
     "data": {
      "text/plain": [
       "65536"
      ]
     },
     "execution_count": 32,
     "metadata": {},
     "output_type": "execute_result"
    }
   ],
   "source": [
    "2^2^2^2"
   ]
  },
  {
   "cell_type": "code",
   "execution_count": 33,
   "id": "10407c4e",
   "metadata": {},
   "outputs": [
    {
     "data": {
      "text/plain": [
       "65536"
      ]
     },
     "execution_count": 33,
     "metadata": {},
     "output_type": "execute_result"
    }
   ],
   "source": [
    "2^( 2^ (2 ^ 2)) #misma precedencia, asociatividad derecha"
   ]
  },
  {
   "cell_type": "markdown",
   "id": "ae816cb2",
   "metadata": {},
   "source": [
    "Para revisar la **asociatividad** de un operador en Julia, podemos utilizar la función `Base.operator_associativity`, con la sintáxis\n",
    "\n",
    "$\\text{Base}\\color{magenta}{\\text{.}}\\color{green}{\\text{operator_associativity}}\\text{(}\\color{green}{\\text{:op}}\\text{)}$\n",
    "\n",
    "en donde $\\text{op}$ es el operador en cuestión, como en el siguiente ejemplo:"
   ]
  },
  {
   "cell_type": "code",
   "execution_count": 34,
   "id": "7a5f1be0",
   "metadata": {
    "scrolled": true
   },
   "outputs": [
    {
     "data": {
      "text/plain": [
       ":left"
      ]
     },
     "execution_count": 34,
     "metadata": {},
     "output_type": "execute_result"
    }
   ],
   "source": [
    "Base.operator_associativity(:/)"
   ]
  },
  {
   "cell_type": "markdown",
   "id": "124f6994",
   "metadata": {},
   "source": [
    "**Ejercicio** Verifica las asociatividades de los operadores utilizados en el ejemplo anterior."
   ]
  },
  {
   "cell_type": "code",
   "execution_count": 35,
   "id": "4713d5c2",
   "metadata": {},
   "outputs": [
    {
     "data": {
      "text/plain": [
       ":none"
      ]
     },
     "execution_count": 35,
     "metadata": {},
     "output_type": "execute_result"
    }
   ],
   "source": [
    "Base.operator_associativity(:*)"
   ]
  },
  {
   "cell_type": "code",
   "execution_count": 36,
   "id": "97973c63",
   "metadata": {},
   "outputs": [
    {
     "data": {
      "text/plain": [
       ":left"
      ]
     },
     "execution_count": 36,
     "metadata": {},
     "output_type": "execute_result"
    }
   ],
   "source": [
    "Base.operator_associativity(:/)"
   ]
  },
  {
   "cell_type": "code",
   "execution_count": 37,
   "id": "c868c846",
   "metadata": {},
   "outputs": [
    {
     "data": {
      "text/plain": [
       ":right"
      ]
     },
     "execution_count": 37,
     "metadata": {},
     "output_type": "execute_result"
    }
   ],
   "source": [
    "Base.operator_associativity(:^)"
   ]
  },
  {
   "cell_type": "markdown",
   "id": "ec7032a7",
   "metadata": {},
   "source": [
    "Mi repuesta:Yo considero que en este caso nos sale la palabra \"none\" ya que obtenemos el mismo resultado si multiplicamos de derecha a izquierda que de izquierda a derecha, es decir en cualquiera de los casos no hay problema como se tome en cuenta, siempre nos da el mismo valor.Sin embargo en la documentación se menciona que su precendencia es izquierda. El ejemplo anterior funciona ya que julia toma en cuenta las 2 operaciones que tiene, por un lado tiene que la asociatividad es un \"none\" y por el otro tiene un \"left\", yo considero que descarta la operación que no esta definida y emplea a la que si, entonces no importa que operaciones no definidas tenga, se va a ejecutar tomando en cuenta a la que si, en este caso a la división. "
   ]
  },
  {
   "cell_type": "markdown",
   "id": "cf35c51b",
   "metadata": {},
   "source": [
    "La precedencia y asociatividad de algunos operadores básicos en Julia se puede consultar en la [documentación](https://docs.julialang.org/en/v1/manual/mathematical-operations/#Operator-Precedence-and-Associativity)."
   ]
  },
  {
   "cell_type": "markdown",
   "id": "fe88821a",
   "metadata": {},
   "source": [
    "**Ejercicio** Investiga la precedencia y asociatividad de los operadores que aparecen en la expresión\n",
    "\n",
    "`x = -7 + 6^5 // 4 * 3 / 2 - 1`\n",
    "\n",
    "y determina de qué manera se ejecutará, indicándolo al colocar paréntesis en la expresióñ\n",
    "\n",
    "`x = -7 + 6^5 // 4 * 3 / 2 - 1`.\n",
    "\n",
    "Después, verifica tu respuesta ejecutando la expresión original y tu expresión con paréntesis en diferentes celdas de código y comparando los resultados."
   ]
  },
  {
   "cell_type": "code",
   "execution_count": 1,
   "id": "99a434fb",
   "metadata": {},
   "outputs": [
    {
     "data": {
      "text/plain": [
       "2908//1"
      ]
     },
     "execution_count": 1,
     "metadata": {},
     "output_type": "execute_result"
    }
   ],
   "source": [
    "-7 + 6^5 // 4 * 3 / 2 - 1"
   ]
  },
  {
   "cell_type": "code",
   "execution_count": 40,
   "id": "64ec52cb",
   "metadata": {},
   "outputs": [
    {
     "data": {
      "text/plain": [
       "2908.0"
      ]
     },
     "execution_count": 40,
     "metadata": {},
     "output_type": "execute_result"
    }
   ],
   "source": [
    "-7 + (((6^5) // 4) * (3 / 2)) - 1"
   ]
  },
  {
   "cell_type": "markdown",
   "id": "6e718aa8",
   "metadata": {},
   "source": [
    "## Tipos de datos\n",
    "\n",
    "En algunas celdas anteriores, para formar números complejos, realizamos una operación entre numeros reales e imaginarios y escribimos, en cada caso, a las partes reales e imaginarias (i.e., los coeficientes que acompañan a `im`) de una forma \"similar\". En la mayoría de los lenguajes de programación, para que los operadores puedan funcionar de forma óptima, deben utilizarse entre datos del mismo \"tipo\". En Julia, podemos averiguar el tipo de dato de una expresión con la función `typeof`:"
   ]
  },
  {
   "cell_type": "code",
   "execution_count": 41,
   "id": "df56f9f1",
   "metadata": {},
   "outputs": [
    {
     "data": {
      "text/plain": [
       "Int64"
      ]
     },
     "execution_count": 41,
     "metadata": {},
     "output_type": "execute_result"
    }
   ],
   "source": [
    "typeof(-5)"
   ]
  },
  {
   "cell_type": "code",
   "execution_count": 42,
   "id": "e5341be1",
   "metadata": {},
   "outputs": [
    {
     "data": {
      "text/plain": [
       "Rational{Int64}"
      ]
     },
     "execution_count": 42,
     "metadata": {},
     "output_type": "execute_result"
    }
   ],
   "source": [
    "typeof(3 // 2)"
   ]
  },
  {
   "cell_type": "code",
   "execution_count": 43,
   "id": "fa12a5e8",
   "metadata": {},
   "outputs": [
    {
     "data": {
      "text/plain": [
       "Float64"
      ]
     },
     "execution_count": 43,
     "metadata": {},
     "output_type": "execute_result"
    }
   ],
   "source": [
    "typeof(1924.875)"
   ]
  },
  {
   "cell_type": "markdown",
   "id": "78a5522f",
   "metadata": {},
   "source": [
    "Aquí observamos que el número entero `-5` es de tipo `Int64` en Julia y el número real `1924.875` es de tipo `Float64`. En cambio, el número `3//2`, que tiene dos números de tipo `Int64` en su expresión (¡verifícalo!), es de tipo `Rational{Int64}`. Notemos que el tipo de dato de `3//2` incluye a _otro_ tipo de dato -en este caso, `Int64`. Para remarcar esta distinción, decimos que `Int64` y `Float64` son tipos de datos **primitivos**, mientras que `Rational{Int64}` es un tipo de dato **compuesto**.\n",
    "\n",
    "**Nota** Si en vez de `Int64` y `Float64` te aparecen `Int32` y `Float32`, respectivamente, _¡no te preocupes!_ Significa que tu sistema es de 32 bits. El número de bits de tu sistema se puede consultar ejecutando el siguiente comando:"
   ]
  },
  {
   "cell_type": "code",
   "execution_count": 44,
   "id": "42c28a0b",
   "metadata": {},
   "outputs": [
    {
     "data": {
      "text/plain": [
       "64"
      ]
     },
     "execution_count": 44,
     "metadata": {},
     "output_type": "execute_result"
    }
   ],
   "source": [
    "Sys.WORD_SIZE"
   ]
  },
  {
   "cell_type": "markdown",
   "id": "3a803fae",
   "metadata": {},
   "source": [
    "aunque, para fines de este curso, no es necesario preocuparnos por este detalle técnico."
   ]
  },
  {
   "cell_type": "markdown",
   "id": "32c764a0",
   "metadata": {},
   "source": [
    "**Ejercicio** Escribe un número racional que sea de tipo `Rational{Float32}` ó `Rational{Float64}`."
   ]
  },
  {
   "cell_type": "markdown",
   "id": "e9337c03",
   "metadata": {},
   "source": [
    "Para realizar este ejercicio observemos lo siguiente:"
   ]
  },
  {
   "cell_type": "code",
   "execution_count": 2,
   "id": "19e7c6bd",
   "metadata": {},
   "outputs": [
    {
     "data": {
      "text/plain": [
       "Rational{Int64}"
      ]
     },
     "execution_count": 2,
     "metadata": {},
     "output_type": "execute_result"
    }
   ],
   "source": [
    "typeof(2908//1)"
   ]
  },
  {
   "cell_type": "code",
   "execution_count": 3,
   "id": "9be46e07",
   "metadata": {},
   "outputs": [
    {
     "data": {
      "text/plain": [
       "Float64"
      ]
     },
     "execution_count": 3,
     "metadata": {},
     "output_type": "execute_result"
    }
   ],
   "source": [
    "typeof(2908.0)"
   ]
  },
  {
   "cell_type": "code",
   "execution_count": 5,
   "id": "a2666cda",
   "metadata": {},
   "outputs": [
    {
     "data": {
      "text/plain": [
       "true"
      ]
     },
     "execution_count": 5,
     "metadata": {},
     "output_type": "execute_result"
    }
   ],
   "source": [
    "isequal(float(2908//1), 2908/1)"
   ]
  },
  {
   "cell_type": "markdown",
   "id": "fd4a180d",
   "metadata": {},
   "source": [
    "En lo anterior observamos que los valores del tipo `Rational{Int64}` = `Float64`, por lo que entonces no es necesario para julia tener un número del tipo `Rational{Float64}`, si ya tenemos a un dato `Float64` que satisface a los valores del tipo flotante."
   ]
  },
  {
   "cell_type": "markdown",
   "id": "c313e55c",
   "metadata": {},
   "source": [
    "Observemos que, además de los números racionales, los complejos también tienen tipos de datos compuestos:"
   ]
  },
  {
   "cell_type": "code",
   "execution_count": 46,
   "id": "59a0d208",
   "metadata": {},
   "outputs": [
    {
     "data": {
      "text/plain": [
       "Complex{Int64}"
      ]
     },
     "execution_count": 46,
     "metadata": {},
     "output_type": "execute_result"
    }
   ],
   "source": [
    "typeof(-5 + 6im)"
   ]
  },
  {
   "cell_type": "code",
   "execution_count": 47,
   "id": "737fa5e0",
   "metadata": {},
   "outputs": [
    {
     "data": {
      "text/plain": [
       "ComplexF64\u001b[90m (alias for \u001b[39m\u001b[90mComplex{Float64}\u001b[39m\u001b[90m)\u001b[39m"
      ]
     },
     "execution_count": 47,
     "metadata": {},
     "output_type": "execute_result"
    }
   ],
   "source": [
    "typeof(1924.875 + 2.10395im)"
   ]
  },
  {
   "cell_type": "markdown",
   "id": "2a29186e",
   "metadata": {},
   "source": [
    "**Ejercicio** ¿Qué tipo de dato tendrá la expresión `3//2 + 5//2im`? (Nota: **No** uses la función `typeof` aún)\n",
    "\n",
    "Me parece que será del tipo Complex(F64)\n",
    "\n",
    "Después de haber escrito tu respuesta, averígualo con la función `typeof`. ¿Qué nos dice esto sobre los tipos de datos compuestos? (Nota: En caso de no haber acertado, puedes corregir tu respuesta anterior, si así lo deseas, o, mejor, dejarla como un recordatorio de lo aprendido)"
   ]
  },
  {
   "cell_type": "code",
   "execution_count": 48,
   "id": "99f23970",
   "metadata": {},
   "outputs": [
    {
     "data": {
      "text/plain": [
       "Complex{Rational{Int64}}"
      ]
     },
     "execution_count": 48,
     "metadata": {},
     "output_type": "execute_result"
    }
   ],
   "source": [
    "typeof(3//2 + 5//2im)"
   ]
  },
  {
   "cell_type": "markdown",
   "id": "21809ea9",
   "metadata": {},
   "source": [
    "**Nota** Los _tipos de datos numéricos_ de Julia **no corresponden** a los _conjuntos de números_ $\\mathbb{N}, \\mathbb{Z}, \\mathbb{Q}, \\mathbb{R}, \\mathbb{I},\\mathbb{C}$, etc. _¡Es muy importante no olvidarlo!_"
   ]
  },
  {
   "cell_type": "markdown",
   "id": "0d06276c",
   "metadata": {},
   "source": [
    "### Tipos de datos numéricos enteros\n",
    "\n",
    "`Int64` e `Int32` son lo que se conoce como **tipos de datos numéricos enteros** _en el ámbito computacional_. Los dos números al final de cada tipo indican cuántos bits se utilizan para almacenar un número dado. Un _bit_ es la unidad mínima de memoria en una computadora. Tiene un formato binario cuyos dos valores se representan como 0 y 1. En un número de tipo `Int64`, uno de los bits se utiliza para indicar si el número es positivo (0) o negativo (1), y los restantes (63, en este caso) se utilizan para almacenar el valor absoluto del número en sistema binario. Por convención, la mitad de los valores de tipo `Int64` son menores a cero. Haciendo un poco de combinatoria:\n",
    "\n",
    "* Dado que cada bit puede tomar dos valores distintos, existen $2^{64}$ combinaciones diferentes con 64 bits, por lo que podemos representar $2^{64}$ números _de tipo entero_ diferentes con `Int64`, incluyendo números negativos.\n",
    "* Ya que un bit se utiliza para el signo y la mitad de los valores de tipo `Int64` son menores a cero, el menor valor de tipo `Int64` es $-2^{63}$, mientras que el mayor valor de tipo `Int64` es $2^{63}-1$. Esto se puede comprobar con las funciones `typemin` y `typemax`, respectivamente. "
   ]
  },
  {
   "cell_type": "code",
   "execution_count": 49,
   "id": "2265ab6c",
   "metadata": {},
   "outputs": [
    {
     "data": {
      "text/plain": [
       "-9223372036854775808"
      ]
     },
     "execution_count": 49,
     "metadata": {},
     "output_type": "execute_result"
    }
   ],
   "source": [
    "-2^63"
   ]
  },
  {
   "cell_type": "code",
   "execution_count": 50,
   "id": "959cf63d",
   "metadata": {},
   "outputs": [
    {
     "data": {
      "text/plain": [
       "-9223372036854775808"
      ]
     },
     "execution_count": 50,
     "metadata": {},
     "output_type": "execute_result"
    }
   ],
   "source": [
    "typemin(Int64)"
   ]
  },
  {
   "cell_type": "code",
   "execution_count": 51,
   "id": "d00dbc11",
   "metadata": {},
   "outputs": [
    {
     "data": {
      "text/plain": [
       "9223372036854775807"
      ]
     },
     "execution_count": 51,
     "metadata": {},
     "output_type": "execute_result"
    }
   ],
   "source": [
    "2^63-1"
   ]
  },
  {
   "cell_type": "code",
   "execution_count": 52,
   "id": "e7be4a44",
   "metadata": {},
   "outputs": [
    {
     "data": {
      "text/plain": [
       "9223372036854775807"
      ]
     },
     "execution_count": 52,
     "metadata": {},
     "output_type": "execute_result"
    }
   ],
   "source": [
    "typemax(Int64)"
   ]
  },
  {
   "cell_type": "markdown",
   "id": "c5ff812c",
   "metadata": {},
   "source": [
    "También existen los tipos de datos numéricos enteros `Int8`, `Int16` e `Int128`.\n",
    "\n",
    "**Ejercicio** Completa la siguiente tabla (¡Asegúrate de entender el _porqué_ de tus respuestas!):\n",
    "\n",
    "| Tipo de dato numérico entero | Valores distintos | Valor mínimo | Valor máximo |\n",
    "| --- | --- | --- | --- |\n",
    "| `Int8`  | $2^{8}$ | $-2^{7}$ | $2^{7}-1$ |\n",
    "| `Int16` | $2^{16}$ | $-2^{15}$ | $2^{15}-1$ |\n",
    "| `Int32` | $2^{32}$ | $-2^{31}$ | $2^{31}-1$ |\n",
    "| `Int64` | $2^{64}$ | $-2^{63}$ | $2^{63}-1$ |\n",
    "| `Int128` | $2^{128}$ | $-2^{127}$ | $2^{127}-1$ |\n",
    "\n",
    "`Int8`, `Int16`, `Int32`, `Int64` e `Int128` también se pueden utilizar como funciones para cambiar los tipos de datos numéricos enteros:"
   ]
  },
  {
   "cell_type": "code",
   "execution_count": 53,
   "id": "fd870d46",
   "metadata": {},
   "outputs": [
    {
     "data": {
      "text/plain": [
       "Int64"
      ]
     },
     "execution_count": 53,
     "metadata": {},
     "output_type": "execute_result"
    }
   ],
   "source": [
    "typeof(1)"
   ]
  },
  {
   "cell_type": "code",
   "execution_count": 54,
   "id": "b18292cb",
   "metadata": {},
   "outputs": [
    {
     "data": {
      "text/plain": [
       "Int8"
      ]
     },
     "execution_count": 54,
     "metadata": {},
     "output_type": "execute_result"
    }
   ],
   "source": [
    "typeof(Int8(1))"
   ]
  },
  {
   "cell_type": "markdown",
   "id": "e4c2d5f3",
   "metadata": {},
   "source": [
    "El nombre genérico `Int` es un alias para el tipo de dato numérico entero predeterminado de tu sistema (e.g. `Int32` ó `Int64`)"
   ]
  },
  {
   "cell_type": "code",
   "execution_count": 55,
   "id": "e62cf883",
   "metadata": {},
   "outputs": [
    {
     "data": {
      "text/plain": [
       "Int64"
      ]
     },
     "execution_count": 55,
     "metadata": {},
     "output_type": "execute_result"
    }
   ],
   "source": [
    "Int"
   ]
  },
  {
   "cell_type": "markdown",
   "id": "e8a61a6c",
   "metadata": {},
   "source": [
    "**Nota** No podemos convertir números con decimales no nulos a números de tipo entero:"
   ]
  },
  {
   "cell_type": "code",
   "execution_count": 56,
   "id": "2fdb98ed",
   "metadata": {},
   "outputs": [
    {
     "data": {
      "text/plain": [
       "Int32"
      ]
     },
     "execution_count": 56,
     "metadata": {},
     "output_type": "execute_result"
    }
   ],
   "source": [
    "typeof(Int32(3.0))"
   ]
  },
  {
   "cell_type": "code",
   "execution_count": 57,
   "id": "b0aa047d",
   "metadata": {},
   "outputs": [
    {
     "ename": "LoadError",
     "evalue": "InexactError: Int32(3.14159)",
     "output_type": "error",
     "traceback": [
      "InexactError: Int32(3.14159)",
      "",
      "Stacktrace:",
      " [1] Int32(x::Float64)",
      "   @ Base .\\float.jl:767",
      " [2] top-level scope",
      "   @ In[57]:1"
     ]
    }
   ],
   "source": [
    "typeof(Int32(3.14159))"
   ]
  },
  {
   "cell_type": "markdown",
   "id": "fd4532cc",
   "metadata": {},
   "source": [
    "lo cual es un indicio de que los números con decimales no nulos se almacenan de otra manera en memoria."
   ]
  },
  {
   "cell_type": "markdown",
   "id": "4ff87600",
   "metadata": {},
   "source": [
    "#### Sobreflujo\n",
    "\n",
    "Cuando hacemos cálculos con números de tipo entero (computacionalmente hablando), como lo hicimos en la sección **Operadores aritméticos**, en realidad la computadora está realizando las operaciones entre las _representaciones binarias_ de dichos números. Dado que el rango de números que se pueden representar **siempre** es limitado, pueden ocurrir cosas como lo siguiente:"
   ]
  },
  {
   "cell_type": "code",
   "execution_count": 58,
   "id": "40ec3dac",
   "metadata": {},
   "outputs": [
    {
     "data": {
      "text/plain": [
       "-9223372036854775808"
      ]
     },
     "execution_count": 58,
     "metadata": {},
     "output_type": "execute_result"
    }
   ],
   "source": [
    "Int64(2^63-1) + 1"
   ]
  },
  {
   "cell_type": "code",
   "execution_count": 59,
   "id": "4cd32b6f",
   "metadata": {},
   "outputs": [
    {
     "data": {
      "text/plain": [
       "9223372036854775807"
      ]
     },
     "execution_count": 59,
     "metadata": {},
     "output_type": "execute_result"
    }
   ],
   "source": [
    "Int64(-2^63) - 1"
   ]
  },
  {
   "cell_type": "markdown",
   "id": "0091c4ac",
   "metadata": {},
   "source": [
    "Observemos que:\n",
    "* dado que especificamos que el primer argumento de las operaciones `+` y `-` es de tipo `Int64`, Julia implícitamente convierte al número `1` en `Int64` antes de realizar las operaciones para que los resultados también sean de tipo `Int64`;\n",
    "* al sumarle $1$ al máximo número representable con `Int64`, ¡obtenemos el _mínimo_ número representable con `Int64`!;\n",
    "* al restarle $1$ al mínimo número representable con `Int64`, ¡obtenemos el _máximo_ número representable con `Int64`!\n",
    "\n",
    "En los dos últimos casos se presenta un efecto de **sobreflujo**. Este fenómeno ocurre cuando el resultado de una operación entre números de un tipo de dato numérico _sale del rango_ de valores representables por dicho tipo de dato numérico. En este caso, el resultado \"le da la vuelta\" al rango de valores representables: por esto es que el valor siguiente del máximo representable es el _mínimo_ representable, y que el valor anterior al mínimo representable es el _máximo_ representable.\n",
    "\n",
    "Una manera más matemática de resumir el sobreflujo es deciendo que _las operaciones aritméticas en una computadora siempre se realizan **módulo** el rango de valores representables por el tipo de dato numérico del resultado_. Para evitar tener efectos de sobreflujo _se debe tener mucho cuidado con las magnitudes de los números con los que calculamos, al igual que los tipos de datos numéricos que utilizamos para hacer los cálculos_."
   ]
  },
  {
   "cell_type": "markdown",
   "id": "11366137",
   "metadata": {},
   "source": [
    "#### `UInt`\n",
    "\n",
    "También existen tipos de datos numéricos enteros `UInt8`, ..., `UInt128` para almacenar números enteros **sin signo** (el nombre proviene justamente de _**U**nsigned **Int**egers_). En este caso, no se utiliza ningún bit para almacenar el signo por lo que, por ejemplo, el valor máximo de `UInt64` será $2^{64}-1$ (el valor mínimo de todos los `UInt` es $0$). Estos números se escriben añadiendo `0x` antes de un entero:"
   ]
  },
  {
   "cell_type": "code",
   "execution_count": 60,
   "id": "4df0b16e",
   "metadata": {},
   "outputs": [
    {
     "data": {
      "text/plain": [
       "0x02"
      ]
     },
     "execution_count": 60,
     "metadata": {},
     "output_type": "execute_result"
    }
   ],
   "source": [
    "0x1 + 0x1"
   ]
  },
  {
   "cell_type": "code",
   "execution_count": 61,
   "id": "88b244d2",
   "metadata": {},
   "outputs": [
    {
     "data": {
      "text/plain": [
       "UInt8"
      ]
     },
     "execution_count": 61,
     "metadata": {},
     "output_type": "execute_result"
    }
   ],
   "source": [
    "typeof(0x1)"
   ]
  },
  {
   "cell_type": "markdown",
   "id": "a8039a5d",
   "metadata": {},
   "source": [
    "**Nota** Los tipos `UInt` también son susceptibles al sobreflujo y, además, tienen usos muy específicos; en este curso **no los utilizaremos**."
   ]
  },
  {
   "cell_type": "markdown",
   "id": "7949a327",
   "metadata": {},
   "source": [
    "#### Pequeño adelanto\n",
    "\n",
    "A diferencia de `Int64` y `UInt64`, `Float64` es un tipo de dato numérico de \"punto flotante\". Veremos qué significa esto y qué implicaciones tiene en el _notebook_ [`1.2-Sistemas_numéricos_de_punto_flotante_y_error_numérico.ipynb`](./1.2-Sistemas_numéricos_de_punto_flotante_y_error_numérico.ipynb).\n",
    "\n",
    "Por ahora, observa la diferencia existente entre las siguientes dos celdas al ejecutarlas:"
   ]
  },
  {
   "cell_type": "code",
   "execution_count": 62,
   "id": "6de5bb39",
   "metadata": {},
   "outputs": [
    {
     "data": {
      "text/plain": [
       "9//10"
      ]
     },
     "execution_count": 62,
     "metadata": {},
     "output_type": "execute_result"
    }
   ],
   "source": [
    "1//10 + 1//10 + 1//10 + 1//10 + 1//10 + 1//10 + 1//10 + 1//10 + 1//10"
   ]
  },
  {
   "cell_type": "code",
   "execution_count": 63,
   "id": "6be7ebf5",
   "metadata": {},
   "outputs": [
    {
     "data": {
      "text/plain": [
       "0.8999999999999999"
      ]
     },
     "execution_count": 63,
     "metadata": {},
     "output_type": "execute_result"
    }
   ],
   "source": [
    "0.1 + 0.1 + 0.1 + 0.1 + 0.1 + 0.1 + 0.1 + 0.1 + 0.1"
   ]
  },
  {
   "cell_type": "markdown",
   "id": "9adb21a2",
   "metadata": {},
   "source": [
    "¿Te parece esto problemático? ¿A qué crees que se deba? No me parece problematico ya que 9/10 =0.9, más bien creo que uno es más exacto que otro. En la segunda suma, considero que los resultados de deben a que lo esta tomando como un número del tipo float, el cual es una aproximación binaria a 0.1, por eso sale diferente el resultado."
   ]
  },
  {
   "cell_type": "markdown",
   "id": "ef543bd1",
   "metadata": {},
   "source": [
    "## Resumen\n",
    "\n",
    "En Julia, los símbolos **`+`**, **`-`**, **`*`**, **`/`** y **`^`** se utilizan para denotar las operaciones de suma, resta, multiplicación, división y exponenciación, respectivamente. Los símbolos que realizan alguna operación en Julia se conocen como _operadores_, y los anteriores son ejemplos de _operadores aritméticos_.\n",
    "\n",
    "Para poder ejecutar expresiones de forma consistente, Julia le asigna a cada operador un nivel de _precedencia_ y, a cada nivel de precedencia, una _asociatividad_. Al ejecutar una expresión con muchos operadores, Julia los ejecutará de mayor a menor precedencia, y cada vez que encuentre varios operadores con la misma precedencia los ejecutará de acuerdo a la asociatividad del respectivo nivel de precedencia, que puede ser izquierda o derecha; asociatividad izquierda es equivalente a ejecutar de izquierda a derecha, mientras asociatividad derecha equivale a ejecutar de derecha a izquierda.\n",
    "\n",
    "Para funcionar óptimamente, los operadores deben operar entre datos del mismo tipo. En caso de hacer una operación entre datos con tipos de datos distintos, el operador **intentará** convertir datos de tal forma que todos tengan un tipo de dato común: si esto es posible, hará dicha conversión _implícitamente_ antes de ejecutar la operación; de lo contrario, devolverá un mensaje de error. Al programar, se recomienda procurar utilizar operadores entre datos **del mismo tipo** para poder tener total certeza de qué tipo de dato tendrá el resultado.\n",
    "\n",
    "Los tipos de datos pueden ser numéricos, lógicos, de texto, entre otros, y se pueden clasificar como primitivos o compuestos. En el caso de los tipos de datos numéricos, algunos ejemplos de tipos de datos primitivos incluyen `Int64` y `Float64`, mientras que algunos ejemplos de tipos de datos compuestos son `Rational{Int64}` y `Complex{Float64}`."
   ]
  },
  {
   "cell_type": "markdown",
   "id": "1aa3210a",
   "metadata": {},
   "source": [
    "**Nota** En este _notebook_, hemos visto algunos tipos de datos primitivos y compuestos para trabajar con operaciones aritméticas. Más adelante, veremos los tipos de datos primitivos\n",
    "* `Bool`, para trabajar con operaciones lógicas, y\n",
    "* `Char` y `String`, para trabajar con operaciones que involucren texto.\n",
    "\n",
    "Además, veremos el tipo de dato compuesto `Array{}`, el cual podremos utilizar para formar arreglos con cualesquiera de los tipos de datos primitivos anteriores (numéricos, lógicos o de texto). En particular, los vectores y las matrices (de extrema utilidad, como sabemos) son ejemplos de arreglos numéricos. Como adelanto a todo esto... ¿alguna vez te preguntaste qué tipo de dato tiene la unidad imaginaria `im`? no"
   ]
  }
 ],
 "metadata": {
  "kernelspec": {
   "display_name": "Julia 1.8.5",
   "language": "julia",
   "name": "julia-1.8"
  },
  "language_info": {
   "file_extension": ".jl",
   "mimetype": "application/julia",
   "name": "julia",
   "version": "1.8.5"
  }
 },
 "nbformat": 4,
 "nbformat_minor": 5
}
